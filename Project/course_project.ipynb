{
 "cells": [
  {
   "cell_type": "markdown",
   "metadata": {},
   "source": [
    "# Курсовой проект курса \"Рекомендательные системы\""
   ]
  },
  {
   "cell_type": "markdown",
   "metadata": {},
   "source": [
    "- Для обучения доступны 95 недель + информация о пользователях и товарах\n",
    "- 96 - 98 недели недоступны. Нужно предсказать какие товары пользователи купят за эти 3 недели\n",
    "- Качество оценивается по метрике **precision@5**, усредненной по всем пользователям. \n",
    "- Критерий сдачи: значение метрики > 0.27\n",
    "- Во время разработки модели выделите 3 известные недели (93 - 95) в качестве валидационной выборки. Продемонстрируйте на валидационной выборке требуемое значение precision@5\n",
    "- Ноутбук должен содержать описание pipeline’а Вашей модели. (Какие модели использовали, какие признаки генерировали и тд)"
   ]
  },
  {
   "cell_type": "code",
   "execution_count": 3,
   "metadata": {
    "ExecuteTime": {
     "end_time": "2021-02-23T14:41:45.949110Z",
     "start_time": "2021-02-23T14:41:45.910241Z"
    }
   },
   "outputs": [],
   "source": [
    "import pandas as pd\n",
    "import numpy as np\n",
    "import matplotlib.pyplot as plt\n",
    "%matplotlib inline\n",
    "import seaborn as sns\n",
    "\n",
    "# Для работы с матрицами\n",
    "from scipy.sparse import csr_matrix\n",
    "\n",
    "# Матричная факторизация\n",
    "from implicit import als\n",
    "\n",
    "# Модель второго уровня\n",
    "from lightgbm import LGBMClassifier\n",
    "import lightgbm as lgb\n",
    "from catboost import CatBoostClassifier, Pool\n",
    "from sklearn.model_selection import train_test_split\n",
    "from sklearn.metrics import roc_auc_score\n",
    "\n",
    "import os, sys\n",
    "module_path = os.path.abspath(os.path.join(os.pardir))\n",
    "if module_path not in sys.path:\n",
    "    sys.path.append(module_path)\n",
    "\n",
    "# Написанные нами функции\n",
    "from src.metrics import precision_at_k, recall_at_k\n",
    "from src.utils import prefilter_items\n",
    "from src.recommenders import MainRecommender"
   ]
  },
  {
   "cell_type": "code",
   "execution_count": 4,
   "metadata": {},
   "outputs": [],
   "source": [
    "# Рестарт/реимпорт подключаемых модулей при их изменении в Jupyter notebook \n",
    "# import os\n",
    "# os.chdir('C:/Users/Alex/YandexDisk/it/gb/rec_sys/src')\n",
    "# %run utils.py"
   ]
  },
  {
   "cell_type": "markdown",
   "metadata": {},
   "source": [
    "**Загрузка данных**"
   ]
  },
  {
   "cell_type": "code",
   "execution_count": 5,
   "metadata": {
    "ExecuteTime": {
     "end_time": "2021-02-23T11:44:08.172597Z",
     "start_time": "2021-02-23T11:44:06.503271Z"
    }
   },
   "outputs": [],
   "source": [
    "data = pd.read_csv('retail_train.csv')\n",
    "item_features = pd.read_csv('product.csv')\n",
    "user_features = pd.read_csv('hh_demographic.csv')"
   ]
  },
  {
   "cell_type": "markdown",
   "metadata": {},
   "source": [
    "**Обработка столбцов**"
   ]
  },
  {
   "cell_type": "code",
   "execution_count": 6,
   "metadata": {
    "ExecuteTime": {
     "end_time": "2021-02-23T09:49:04.439157Z",
     "start_time": "2021-02-23T09:49:04.423894Z"
    }
   },
   "outputs": [],
   "source": [
    "item_features.columns = [col.lower() for col in item_features.columns]\n",
    "user_features.columns = [col.lower() for col in user_features.columns]\n",
    "\n",
    "item_features.rename(columns={'product_id': 'item_id'}, inplace=True)\n",
    "user_features.rename(columns={'household_key': 'user_id'}, inplace=True)"
   ]
  },
  {
   "cell_type": "markdown",
   "metadata": {},
   "source": [
    "Важна схема обучения и валидации!\n",
    "\n",
    "-- давние покупки -- | -- 6 недель -- | -- 3 недели -- \n",
    "\n",
    "подобрать размер 2-ого датасета (6 недель) --> learning curve (зависимость метрики recall@k от размера датасета)"
   ]
  },
  {
   "cell_type": "code",
   "execution_count": 7,
   "metadata": {
    "ExecuteTime": {
     "end_time": "2021-02-23T09:49:04.628553Z",
     "start_time": "2021-02-23T09:49:04.441150Z"
    }
   },
   "outputs": [
    {
     "data": {
      "text/html": [
       "<div>\n",
       "<style scoped>\n",
       "    .dataframe tbody tr th:only-of-type {\n",
       "        vertical-align: middle;\n",
       "    }\n",
       "\n",
       "    .dataframe tbody tr th {\n",
       "        vertical-align: top;\n",
       "    }\n",
       "\n",
       "    .dataframe thead th {\n",
       "        text-align: right;\n",
       "    }\n",
       "</style>\n",
       "<table border=\"1\" class=\"dataframe\">\n",
       "  <thead>\n",
       "    <tr style=\"text-align: right;\">\n",
       "      <th></th>\n",
       "      <th>user_id</th>\n",
       "      <th>basket_id</th>\n",
       "      <th>day</th>\n",
       "      <th>item_id</th>\n",
       "      <th>quantity</th>\n",
       "      <th>sales_value</th>\n",
       "      <th>store_id</th>\n",
       "      <th>retail_disc</th>\n",
       "      <th>trans_time</th>\n",
       "      <th>week_no</th>\n",
       "      <th>coupon_disc</th>\n",
       "      <th>coupon_match_disc</th>\n",
       "    </tr>\n",
       "  </thead>\n",
       "  <tbody>\n",
       "    <tr>\n",
       "      <th>0</th>\n",
       "      <td>2375</td>\n",
       "      <td>26984851472</td>\n",
       "      <td>1</td>\n",
       "      <td>1004906</td>\n",
       "      <td>1</td>\n",
       "      <td>1.39</td>\n",
       "      <td>364</td>\n",
       "      <td>-0.6</td>\n",
       "      <td>1631</td>\n",
       "      <td>1</td>\n",
       "      <td>0.0</td>\n",
       "      <td>0.0</td>\n",
       "    </tr>\n",
       "    <tr>\n",
       "      <th>1</th>\n",
       "      <td>2375</td>\n",
       "      <td>26984851472</td>\n",
       "      <td>1</td>\n",
       "      <td>1033142</td>\n",
       "      <td>1</td>\n",
       "      <td>0.82</td>\n",
       "      <td>364</td>\n",
       "      <td>0.0</td>\n",
       "      <td>1631</td>\n",
       "      <td>1</td>\n",
       "      <td>0.0</td>\n",
       "      <td>0.0</td>\n",
       "    </tr>\n",
       "  </tbody>\n",
       "</table>\n",
       "</div>"
      ],
      "text/plain": [
       "   user_id    basket_id  day  item_id  quantity  sales_value  store_id  \\\n",
       "0     2375  26984851472    1  1004906         1         1.39       364   \n",
       "1     2375  26984851472    1  1033142         1         0.82       364   \n",
       "\n",
       "   retail_disc  trans_time  week_no  coupon_disc  coupon_match_disc  \n",
       "0         -0.6        1631        1          0.0                0.0  \n",
       "1          0.0        1631        1          0.0                0.0  "
      ]
     },
     "execution_count": 7,
     "metadata": {},
     "output_type": "execute_result"
    }
   ],
   "source": [
    "val_lvl_1_size_weeks = 6\n",
    "val_lvl_2_size_weeks = 3\n",
    "\n",
    "data_train_lvl_1 = data[data['week_no'] < data['week_no'].max() - (val_lvl_1_size_weeks + val_lvl_2_size_weeks)]\n",
    "data_val_lvl_1 = data[(data['week_no'] >= data['week_no'].max() - (val_lvl_1_size_weeks + val_lvl_2_size_weeks)) &\n",
    "                      (data['week_no'] < data['week_no'].max() - (val_lvl_2_size_weeks))]\n",
    "\n",
    "data_train_lvl_2 = data_val_lvl_1.copy()  # Для наглядности. Далее мы добавим изменения, и они будут отличаться\n",
    "data_val_lvl_2 = data[data['week_no'] >= data['week_no'].max() - val_lvl_2_size_weeks]\n",
    "\n",
    "data_train_lvl_1.head(2)"
   ]
  },
  {
   "cell_type": "markdown",
   "metadata": {},
   "source": [
    "**Появление новых пользователей на валидационной и тестовой выборках**"
   ]
  },
  {
   "cell_type": "code",
   "execution_count": 8,
   "metadata": {
    "ExecuteTime": {
     "end_time": "2021-02-23T09:49:04.675926Z",
     "start_time": "2021-02-23T09:49:04.630496Z"
    }
   },
   "outputs": [
    {
     "name": "stdout",
     "output_type": "stream",
     "text": [
      "Количество пользователей в интервале до 6 нед: [1984]\n",
      "Количество новых пользователей в интервале 6 нед: []\n",
      "Количество новых пользователей в интервале 3 нед: 126\n"
     ]
    }
   ],
   "source": [
    "users_lvl_1 = data_train_lvl_1.user_id.unique()\n",
    "users_lvl_2 = data_val_lvl_1.user_id.unique()\n",
    "users_lvl_3 = data_val_lvl_2.user_id.unique()\n",
    "\n",
    "new_users_lvl_2 = list(set(users_lvl_2) - set(users_lvl_1))\n",
    "new_users_lvl_3 = list(set(users_lvl_3) - (set(users_lvl_1) | set(users_lvl_2)))\n",
    "\n",
    "add_to_lvl_2 = list(set(users_lvl_3) - (set(users_lvl_2)))\n",
    "\n",
    "print('Количество пользователей в интервале до 6 нед:', new_users_lvl_2)\n",
    "print('Количество новых пользователей в интервале 6 нед:', new_users_lvl_3)\n",
    "print('Количество новых пользователей в интервале 3 нед:', len(add_to_lvl_2))"
   ]
  },
  {
   "cell_type": "markdown",
   "metadata": {},
   "source": [
    "## Обзор датасета"
   ]
  },
  {
   "cell_type": "code",
   "execution_count": 9,
   "metadata": {
    "ExecuteTime": {
     "end_time": "2021-02-23T09:49:04.707693Z",
     "start_time": "2021-02-23T09:49:04.676923Z"
    }
   },
   "outputs": [
    {
     "data": {
      "text/html": [
       "<div>\n",
       "<style scoped>\n",
       "    .dataframe tbody tr th:only-of-type {\n",
       "        vertical-align: middle;\n",
       "    }\n",
       "\n",
       "    .dataframe tbody tr th {\n",
       "        vertical-align: top;\n",
       "    }\n",
       "\n",
       "    .dataframe thead th {\n",
       "        text-align: right;\n",
       "    }\n",
       "</style>\n",
       "<table border=\"1\" class=\"dataframe\">\n",
       "  <thead>\n",
       "    <tr style=\"text-align: right;\">\n",
       "      <th></th>\n",
       "      <th>user_id</th>\n",
       "      <th>basket_id</th>\n",
       "      <th>day</th>\n",
       "      <th>item_id</th>\n",
       "      <th>quantity</th>\n",
       "      <th>sales_value</th>\n",
       "      <th>store_id</th>\n",
       "      <th>retail_disc</th>\n",
       "      <th>trans_time</th>\n",
       "      <th>week_no</th>\n",
       "      <th>coupon_disc</th>\n",
       "      <th>coupon_match_disc</th>\n",
       "    </tr>\n",
       "  </thead>\n",
       "  <tbody>\n",
       "    <tr>\n",
       "      <th>0</th>\n",
       "      <td>2375</td>\n",
       "      <td>26984851472</td>\n",
       "      <td>1</td>\n",
       "      <td>1004906</td>\n",
       "      <td>1</td>\n",
       "      <td>1.39</td>\n",
       "      <td>364</td>\n",
       "      <td>-0.60</td>\n",
       "      <td>1631</td>\n",
       "      <td>1</td>\n",
       "      <td>0.0</td>\n",
       "      <td>0.0</td>\n",
       "    </tr>\n",
       "    <tr>\n",
       "      <th>1</th>\n",
       "      <td>2375</td>\n",
       "      <td>26984851472</td>\n",
       "      <td>1</td>\n",
       "      <td>1033142</td>\n",
       "      <td>1</td>\n",
       "      <td>0.82</td>\n",
       "      <td>364</td>\n",
       "      <td>0.00</td>\n",
       "      <td>1631</td>\n",
       "      <td>1</td>\n",
       "      <td>0.0</td>\n",
       "      <td>0.0</td>\n",
       "    </tr>\n",
       "    <tr>\n",
       "      <th>2</th>\n",
       "      <td>2375</td>\n",
       "      <td>26984851472</td>\n",
       "      <td>1</td>\n",
       "      <td>1036325</td>\n",
       "      <td>1</td>\n",
       "      <td>0.99</td>\n",
       "      <td>364</td>\n",
       "      <td>-0.30</td>\n",
       "      <td>1631</td>\n",
       "      <td>1</td>\n",
       "      <td>0.0</td>\n",
       "      <td>0.0</td>\n",
       "    </tr>\n",
       "    <tr>\n",
       "      <th>3</th>\n",
       "      <td>2375</td>\n",
       "      <td>26984851472</td>\n",
       "      <td>1</td>\n",
       "      <td>1082185</td>\n",
       "      <td>1</td>\n",
       "      <td>1.21</td>\n",
       "      <td>364</td>\n",
       "      <td>0.00</td>\n",
       "      <td>1631</td>\n",
       "      <td>1</td>\n",
       "      <td>0.0</td>\n",
       "      <td>0.0</td>\n",
       "    </tr>\n",
       "    <tr>\n",
       "      <th>4</th>\n",
       "      <td>2375</td>\n",
       "      <td>26984851472</td>\n",
       "      <td>1</td>\n",
       "      <td>8160430</td>\n",
       "      <td>1</td>\n",
       "      <td>1.50</td>\n",
       "      <td>364</td>\n",
       "      <td>-0.39</td>\n",
       "      <td>1631</td>\n",
       "      <td>1</td>\n",
       "      <td>0.0</td>\n",
       "      <td>0.0</td>\n",
       "    </tr>\n",
       "  </tbody>\n",
       "</table>\n",
       "</div>"
      ],
      "text/plain": [
       "   user_id    basket_id  day  item_id  quantity  sales_value  store_id  \\\n",
       "0     2375  26984851472    1  1004906         1         1.39       364   \n",
       "1     2375  26984851472    1  1033142         1         0.82       364   \n",
       "2     2375  26984851472    1  1036325         1         0.99       364   \n",
       "3     2375  26984851472    1  1082185         1         1.21       364   \n",
       "4     2375  26984851472    1  8160430         1         1.50       364   \n",
       "\n",
       "   retail_disc  trans_time  week_no  coupon_disc  coupon_match_disc  \n",
       "0        -0.60        1631        1          0.0                0.0  \n",
       "1         0.00        1631        1          0.0                0.0  \n",
       "2        -0.30        1631        1          0.0                0.0  \n",
       "3         0.00        1631        1          0.0                0.0  \n",
       "4        -0.39        1631        1          0.0                0.0  "
      ]
     },
     "execution_count": 9,
     "metadata": {},
     "output_type": "execute_result"
    }
   ],
   "source": [
    "data.head()"
   ]
  },
  {
   "cell_type": "code",
   "execution_count": 10,
   "metadata": {
    "ExecuteTime": {
     "end_time": "2021-02-23T09:49:04.722938Z",
     "start_time": "2021-02-23T09:49:04.711679Z"
    }
   },
   "outputs": [
    {
     "data": {
      "text/plain": [
       "(2396804, 12)"
      ]
     },
     "execution_count": 10,
     "metadata": {},
     "output_type": "execute_result"
    }
   ],
   "source": [
    "data.shape"
   ]
  },
  {
   "cell_type": "code",
   "execution_count": 11,
   "metadata": {
    "ExecuteTime": {
     "end_time": "2021-02-23T09:49:04.754516Z",
     "start_time": "2021-02-23T09:49:04.727630Z"
    }
   },
   "outputs": [
    {
     "name": "stdout",
     "output_type": "stream",
     "text": [
      "<class 'pandas.core.frame.DataFrame'>\n",
      "RangeIndex: 2396804 entries, 0 to 2396803\n",
      "Data columns (total 12 columns):\n",
      " #   Column             Dtype  \n",
      "---  ------             -----  \n",
      " 0   user_id            int64  \n",
      " 1   basket_id          int64  \n",
      " 2   day                int64  \n",
      " 3   item_id            int64  \n",
      " 4   quantity           int64  \n",
      " 5   sales_value        float64\n",
      " 6   store_id           int64  \n",
      " 7   retail_disc        float64\n",
      " 8   trans_time         int64  \n",
      " 9   week_no            int64  \n",
      " 10  coupon_disc        float64\n",
      " 11  coupon_match_disc  float64\n",
      "dtypes: float64(4), int64(8)\n",
      "memory usage: 219.4 MB\n"
     ]
    }
   ],
   "source": [
    "data.info()"
   ]
  },
  {
   "cell_type": "code",
   "execution_count": 12,
   "metadata": {
    "ExecuteTime": {
     "end_time": "2021-02-23T09:49:05.516469Z",
     "start_time": "2021-02-23T09:49:04.757819Z"
    }
   },
   "outputs": [
    {
     "name": "stderr",
     "output_type": "stream",
     "text": [
      "C:\\Users\\ASUS\\AppData\\Local\\Temp\\ipykernel_21180\\2387280842.py:1: FutureWarning: this method is deprecated in favour of `Styler.format(precision=..)`\n",
      "  data.describe().style.set_precision(0)\n"
     ]
    },
    {
     "data": {
      "text/html": [
       "<style type=\"text/css\">\n",
       "</style>\n",
       "<table id=\"T_5d142_\">\n",
       "  <thead>\n",
       "    <tr>\n",
       "      <th class=\"blank level0\" >&nbsp;</th>\n",
       "      <th class=\"col_heading level0 col0\" >user_id</th>\n",
       "      <th class=\"col_heading level0 col1\" >basket_id</th>\n",
       "      <th class=\"col_heading level0 col2\" >day</th>\n",
       "      <th class=\"col_heading level0 col3\" >item_id</th>\n",
       "      <th class=\"col_heading level0 col4\" >quantity</th>\n",
       "      <th class=\"col_heading level0 col5\" >sales_value</th>\n",
       "      <th class=\"col_heading level0 col6\" >store_id</th>\n",
       "      <th class=\"col_heading level0 col7\" >retail_disc</th>\n",
       "      <th class=\"col_heading level0 col8\" >trans_time</th>\n",
       "      <th class=\"col_heading level0 col9\" >week_no</th>\n",
       "      <th class=\"col_heading level0 col10\" >coupon_disc</th>\n",
       "      <th class=\"col_heading level0 col11\" >coupon_match_disc</th>\n",
       "    </tr>\n",
       "  </thead>\n",
       "  <tbody>\n",
       "    <tr>\n",
       "      <th id=\"T_5d142_level0_row0\" class=\"row_heading level0 row0\" >count</th>\n",
       "      <td id=\"T_5d142_row0_col0\" class=\"data row0 col0\" >2396804</td>\n",
       "      <td id=\"T_5d142_row0_col1\" class=\"data row0 col1\" >2396804</td>\n",
       "      <td id=\"T_5d142_row0_col2\" class=\"data row0 col2\" >2396804</td>\n",
       "      <td id=\"T_5d142_row0_col3\" class=\"data row0 col3\" >2396804</td>\n",
       "      <td id=\"T_5d142_row0_col4\" class=\"data row0 col4\" >2396804</td>\n",
       "      <td id=\"T_5d142_row0_col5\" class=\"data row0 col5\" >2396804</td>\n",
       "      <td id=\"T_5d142_row0_col6\" class=\"data row0 col6\" >2396804</td>\n",
       "      <td id=\"T_5d142_row0_col7\" class=\"data row0 col7\" >2396804</td>\n",
       "      <td id=\"T_5d142_row0_col8\" class=\"data row0 col8\" >2396804</td>\n",
       "      <td id=\"T_5d142_row0_col9\" class=\"data row0 col9\" >2396804</td>\n",
       "      <td id=\"T_5d142_row0_col10\" class=\"data row0 col10\" >2396804</td>\n",
       "      <td id=\"T_5d142_row0_col11\" class=\"data row0 col11\" >2396804</td>\n",
       "    </tr>\n",
       "    <tr>\n",
       "      <th id=\"T_5d142_level0_row1\" class=\"row_heading level0 row1\" >mean</th>\n",
       "      <td id=\"T_5d142_row1_col0\" class=\"data row1 col0\" >1272</td>\n",
       "      <td id=\"T_5d142_row1_col1\" class=\"data row1 col1\" >33366432676</td>\n",
       "      <td id=\"T_5d142_row1_col2\" class=\"data row1 col2\" >364</td>\n",
       "      <td id=\"T_5d142_row1_col3\" class=\"data row1 col3\" >2827247</td>\n",
       "      <td id=\"T_5d142_row1_col4\" class=\"data row1 col4\" >100</td>\n",
       "      <td id=\"T_5d142_row1_col5\" class=\"data row1 col5\" >3</td>\n",
       "      <td id=\"T_5d142_row1_col6\" class=\"data row1 col6\" >3048</td>\n",
       "      <td id=\"T_5d142_row1_col7\" class=\"data row1 col7\" >-1</td>\n",
       "      <td id=\"T_5d142_row1_col8\" class=\"data row1 col8\" >1562</td>\n",
       "      <td id=\"T_5d142_row1_col9\" class=\"data row1 col9\" >53</td>\n",
       "      <td id=\"T_5d142_row1_col10\" class=\"data row1 col10\" >-0</td>\n",
       "      <td id=\"T_5d142_row1_col11\" class=\"data row1 col11\" >-0</td>\n",
       "    </tr>\n",
       "    <tr>\n",
       "      <th id=\"T_5d142_level0_row2\" class=\"row_heading level0 row2\" >std</th>\n",
       "      <td id=\"T_5d142_row2_col0\" class=\"data row2 col0\" >727</td>\n",
       "      <td id=\"T_5d142_row2_col1\" class=\"data row2 col1\" >4284798176</td>\n",
       "      <td id=\"T_5d142_row2_col2\" class=\"data row2 col2\" >176</td>\n",
       "      <td id=\"T_5d142_row2_col3\" class=\"data row2 col3\" >3732798</td>\n",
       "      <td id=\"T_5d142_row2_col4\" class=\"data row2 col4\" >1152</td>\n",
       "      <td id=\"T_5d142_row2_col5\" class=\"data row2 col5\" >4</td>\n",
       "      <td id=\"T_5d142_row2_col6\" class=\"data row2 col6\" >8786</td>\n",
       "      <td id=\"T_5d142_row2_col7\" class=\"data row2 col7\" >1</td>\n",
       "      <td id=\"T_5d142_row2_col8\" class=\"data row2 col8\" >402</td>\n",
       "      <td id=\"T_5d142_row2_col9\" class=\"data row2 col9\" >25</td>\n",
       "      <td id=\"T_5d142_row2_col10\" class=\"data row2 col10\" >0</td>\n",
       "      <td id=\"T_5d142_row2_col11\" class=\"data row2 col11\" >0</td>\n",
       "    </tr>\n",
       "    <tr>\n",
       "      <th id=\"T_5d142_level0_row3\" class=\"row_heading level0 row3\" >min</th>\n",
       "      <td id=\"T_5d142_row3_col0\" class=\"data row3 col0\" >1</td>\n",
       "      <td id=\"T_5d142_row3_col1\" class=\"data row3 col1\" >26984851472</td>\n",
       "      <td id=\"T_5d142_row3_col2\" class=\"data row3 col2\" >1</td>\n",
       "      <td id=\"T_5d142_row3_col3\" class=\"data row3 col3\" >25671</td>\n",
       "      <td id=\"T_5d142_row3_col4\" class=\"data row3 col4\" >0</td>\n",
       "      <td id=\"T_5d142_row3_col5\" class=\"data row3 col5\" >0</td>\n",
       "      <td id=\"T_5d142_row3_col6\" class=\"data row3 col6\" >1</td>\n",
       "      <td id=\"T_5d142_row3_col7\" class=\"data row3 col7\" >-130</td>\n",
       "      <td id=\"T_5d142_row3_col8\" class=\"data row3 col8\" >0</td>\n",
       "      <td id=\"T_5d142_row3_col9\" class=\"data row3 col9\" >1</td>\n",
       "      <td id=\"T_5d142_row3_col10\" class=\"data row3 col10\" >-56</td>\n",
       "      <td id=\"T_5d142_row3_col11\" class=\"data row3 col11\" >-8</td>\n",
       "    </tr>\n",
       "    <tr>\n",
       "      <th id=\"T_5d142_level0_row4\" class=\"row_heading level0 row4\" >25%</th>\n",
       "      <td id=\"T_5d142_row4_col0\" class=\"data row4 col0\" >655</td>\n",
       "      <td id=\"T_5d142_row4_col1\" class=\"data row4 col1\" >30087143433</td>\n",
       "      <td id=\"T_5d142_row4_col2\" class=\"data row4 col2\" >216</td>\n",
       "      <td id=\"T_5d142_row4_col3\" class=\"data row4 col3\" >916993</td>\n",
       "      <td id=\"T_5d142_row4_col4\" class=\"data row4 col4\" >1</td>\n",
       "      <td id=\"T_5d142_row4_col5\" class=\"data row4 col5\" >1</td>\n",
       "      <td id=\"T_5d142_row4_col6\" class=\"data row4 col6\" >330</td>\n",
       "      <td id=\"T_5d142_row4_col7\" class=\"data row4 col7\" >-1</td>\n",
       "      <td id=\"T_5d142_row4_col8\" class=\"data row4 col8\" >1307</td>\n",
       "      <td id=\"T_5d142_row4_col9\" class=\"data row4 col9\" >32</td>\n",
       "      <td id=\"T_5d142_row4_col10\" class=\"data row4 col10\" >0</td>\n",
       "      <td id=\"T_5d142_row4_col11\" class=\"data row4 col11\" >0</td>\n",
       "    </tr>\n",
       "    <tr>\n",
       "      <th id=\"T_5d142_level0_row5\" class=\"row_heading level0 row5\" >50%</th>\n",
       "      <td id=\"T_5d142_row5_col0\" class=\"data row5 col0\" >1271</td>\n",
       "      <td id=\"T_5d142_row5_col1\" class=\"data row5 col1\" >32419978306</td>\n",
       "      <td id=\"T_5d142_row5_col2\" class=\"data row5 col2\" >366</td>\n",
       "      <td id=\"T_5d142_row5_col3\" class=\"data row5 col3\" >1027569</td>\n",
       "      <td id=\"T_5d142_row5_col4\" class=\"data row5 col4\" >1</td>\n",
       "      <td id=\"T_5d142_row5_col5\" class=\"data row5 col5\" >2</td>\n",
       "      <td id=\"T_5d142_row5_col6\" class=\"data row5 col6\" >370</td>\n",
       "      <td id=\"T_5d142_row5_col7\" class=\"data row5 col7\" >-0</td>\n",
       "      <td id=\"T_5d142_row5_col8\" class=\"data row5 col8\" >1614</td>\n",
       "      <td id=\"T_5d142_row5_col9\" class=\"data row5 col9\" >53</td>\n",
       "      <td id=\"T_5d142_row5_col10\" class=\"data row5 col10\" >0</td>\n",
       "      <td id=\"T_5d142_row5_col11\" class=\"data row5 col11\" >0</td>\n",
       "    </tr>\n",
       "    <tr>\n",
       "      <th id=\"T_5d142_level0_row6\" class=\"row_heading level0 row6\" >75%</th>\n",
       "      <td id=\"T_5d142_row6_col0\" class=\"data row6 col0\" >1914</td>\n",
       "      <td id=\"T_5d142_row6_col1\" class=\"data row6 col1\" >35145801967</td>\n",
       "      <td id=\"T_5d142_row6_col2\" class=\"data row6 col2\" >515</td>\n",
       "      <td id=\"T_5d142_row6_col3\" class=\"data row6 col3\" >1132178</td>\n",
       "      <td id=\"T_5d142_row6_col4\" class=\"data row6 col4\" >1</td>\n",
       "      <td id=\"T_5d142_row6_col5\" class=\"data row6 col5\" >3</td>\n",
       "      <td id=\"T_5d142_row6_col6\" class=\"data row6 col6\" >422</td>\n",
       "      <td id=\"T_5d142_row6_col7\" class=\"data row6 col7\" >0</td>\n",
       "      <td id=\"T_5d142_row6_col8\" class=\"data row6 col8\" >1844</td>\n",
       "      <td id=\"T_5d142_row6_col9\" class=\"data row6 col9\" >74</td>\n",
       "      <td id=\"T_5d142_row6_col10\" class=\"data row6 col10\" >0</td>\n",
       "      <td id=\"T_5d142_row6_col11\" class=\"data row6 col11\" >0</td>\n",
       "    </tr>\n",
       "    <tr>\n",
       "      <th id=\"T_5d142_level0_row7\" class=\"row_heading level0 row7\" >max</th>\n",
       "      <td id=\"T_5d142_row7_col0\" class=\"data row7 col0\" >2500</td>\n",
       "      <td id=\"T_5d142_row7_col1\" class=\"data row7 col1\" >41656790510</td>\n",
       "      <td id=\"T_5d142_row7_col2\" class=\"data row7 col2\" >663</td>\n",
       "      <td id=\"T_5d142_row7_col3\" class=\"data row7 col3\" >18024556</td>\n",
       "      <td id=\"T_5d142_row7_col4\" class=\"data row7 col4\" >89638</td>\n",
       "      <td id=\"T_5d142_row7_col5\" class=\"data row7 col5\" >840</td>\n",
       "      <td id=\"T_5d142_row7_col6\" class=\"data row7 col6\" >34280</td>\n",
       "      <td id=\"T_5d142_row7_col7\" class=\"data row7 col7\" >4</td>\n",
       "      <td id=\"T_5d142_row7_col8\" class=\"data row7 col8\" >2359</td>\n",
       "      <td id=\"T_5d142_row7_col9\" class=\"data row7 col9\" >95</td>\n",
       "      <td id=\"T_5d142_row7_col10\" class=\"data row7 col10\" >0</td>\n",
       "      <td id=\"T_5d142_row7_col11\" class=\"data row7 col11\" >0</td>\n",
       "    </tr>\n",
       "  </tbody>\n",
       "</table>\n"
      ],
      "text/plain": [
       "<pandas.io.formats.style.Styler at 0x262c1918280>"
      ]
     },
     "execution_count": 12,
     "metadata": {},
     "output_type": "execute_result"
    }
   ],
   "source": [
    "data.describe().style.set_precision(0)"
   ]
  },
  {
   "cell_type": "code",
   "execution_count": 13,
   "metadata": {
    "ExecuteTime": {
     "end_time": "2021-02-23T09:49:05.531767Z",
     "start_time": "2021-02-23T09:49:05.517993Z"
    }
   },
   "outputs": [
    {
     "data": {
      "text/html": [
       "<div>\n",
       "<style scoped>\n",
       "    .dataframe tbody tr th:only-of-type {\n",
       "        vertical-align: middle;\n",
       "    }\n",
       "\n",
       "    .dataframe tbody tr th {\n",
       "        vertical-align: top;\n",
       "    }\n",
       "\n",
       "    .dataframe thead th {\n",
       "        text-align: right;\n",
       "    }\n",
       "</style>\n",
       "<table border=\"1\" class=\"dataframe\">\n",
       "  <thead>\n",
       "    <tr style=\"text-align: right;\">\n",
       "      <th></th>\n",
       "      <th>item_id</th>\n",
       "      <th>manufacturer</th>\n",
       "      <th>department</th>\n",
       "      <th>brand</th>\n",
       "      <th>commodity_desc</th>\n",
       "      <th>sub_commodity_desc</th>\n",
       "      <th>curr_size_of_product</th>\n",
       "    </tr>\n",
       "  </thead>\n",
       "  <tbody>\n",
       "    <tr>\n",
       "      <th>0</th>\n",
       "      <td>25671</td>\n",
       "      <td>2</td>\n",
       "      <td>GROCERY</td>\n",
       "      <td>National</td>\n",
       "      <td>FRZN ICE</td>\n",
       "      <td>ICE - CRUSHED/CUBED</td>\n",
       "      <td>22 LB</td>\n",
       "    </tr>\n",
       "    <tr>\n",
       "      <th>1</th>\n",
       "      <td>26081</td>\n",
       "      <td>2</td>\n",
       "      <td>MISC. TRANS.</td>\n",
       "      <td>National</td>\n",
       "      <td>NO COMMODITY DESCRIPTION</td>\n",
       "      <td>NO SUBCOMMODITY DESCRIPTION</td>\n",
       "      <td></td>\n",
       "    </tr>\n",
       "    <tr>\n",
       "      <th>2</th>\n",
       "      <td>26093</td>\n",
       "      <td>69</td>\n",
       "      <td>PASTRY</td>\n",
       "      <td>Private</td>\n",
       "      <td>BREAD</td>\n",
       "      <td>BREAD:ITALIAN/FRENCH</td>\n",
       "      <td></td>\n",
       "    </tr>\n",
       "    <tr>\n",
       "      <th>3</th>\n",
       "      <td>26190</td>\n",
       "      <td>69</td>\n",
       "      <td>GROCERY</td>\n",
       "      <td>Private</td>\n",
       "      <td>FRUIT - SHELF STABLE</td>\n",
       "      <td>APPLE SAUCE</td>\n",
       "      <td>50 OZ</td>\n",
       "    </tr>\n",
       "    <tr>\n",
       "      <th>4</th>\n",
       "      <td>26355</td>\n",
       "      <td>69</td>\n",
       "      <td>GROCERY</td>\n",
       "      <td>Private</td>\n",
       "      <td>COOKIES/CONES</td>\n",
       "      <td>SPECIALTY COOKIES</td>\n",
       "      <td>14 OZ</td>\n",
       "    </tr>\n",
       "  </tbody>\n",
       "</table>\n",
       "</div>"
      ],
      "text/plain": [
       "   item_id  manufacturer    department     brand            commodity_desc  \\\n",
       "0    25671             2       GROCERY  National                  FRZN ICE   \n",
       "1    26081             2  MISC. TRANS.  National  NO COMMODITY DESCRIPTION   \n",
       "2    26093            69        PASTRY   Private                     BREAD   \n",
       "3    26190            69       GROCERY   Private      FRUIT - SHELF STABLE   \n",
       "4    26355            69       GROCERY   Private             COOKIES/CONES   \n",
       "\n",
       "            sub_commodity_desc curr_size_of_product  \n",
       "0          ICE - CRUSHED/CUBED                22 LB  \n",
       "1  NO SUBCOMMODITY DESCRIPTION                       \n",
       "2         BREAD:ITALIAN/FRENCH                       \n",
       "3                  APPLE SAUCE                50 OZ  \n",
       "4            SPECIALTY COOKIES                14 OZ  "
      ]
     },
     "execution_count": 13,
     "metadata": {},
     "output_type": "execute_result"
    }
   ],
   "source": [
    "item_features.head()"
   ]
  },
  {
   "cell_type": "code",
   "execution_count": 14,
   "metadata": {
    "ExecuteTime": {
     "end_time": "2021-02-23T09:49:05.562582Z",
     "start_time": "2021-02-23T09:49:05.533751Z"
    }
   },
   "outputs": [
    {
     "data": {
      "text/html": [
       "<div>\n",
       "<style scoped>\n",
       "    .dataframe tbody tr th:only-of-type {\n",
       "        vertical-align: middle;\n",
       "    }\n",
       "\n",
       "    .dataframe tbody tr th {\n",
       "        vertical-align: top;\n",
       "    }\n",
       "\n",
       "    .dataframe thead th {\n",
       "        text-align: right;\n",
       "    }\n",
       "</style>\n",
       "<table border=\"1\" class=\"dataframe\">\n",
       "  <thead>\n",
       "    <tr style=\"text-align: right;\">\n",
       "      <th></th>\n",
       "      <th>age_desc</th>\n",
       "      <th>marital_status_code</th>\n",
       "      <th>income_desc</th>\n",
       "      <th>homeowner_desc</th>\n",
       "      <th>hh_comp_desc</th>\n",
       "      <th>household_size_desc</th>\n",
       "      <th>kid_category_desc</th>\n",
       "      <th>user_id</th>\n",
       "    </tr>\n",
       "  </thead>\n",
       "  <tbody>\n",
       "    <tr>\n",
       "      <th>0</th>\n",
       "      <td>65+</td>\n",
       "      <td>A</td>\n",
       "      <td>35-49K</td>\n",
       "      <td>Homeowner</td>\n",
       "      <td>2 Adults No Kids</td>\n",
       "      <td>2</td>\n",
       "      <td>None/Unknown</td>\n",
       "      <td>1</td>\n",
       "    </tr>\n",
       "    <tr>\n",
       "      <th>1</th>\n",
       "      <td>45-54</td>\n",
       "      <td>A</td>\n",
       "      <td>50-74K</td>\n",
       "      <td>Homeowner</td>\n",
       "      <td>2 Adults No Kids</td>\n",
       "      <td>2</td>\n",
       "      <td>None/Unknown</td>\n",
       "      <td>7</td>\n",
       "    </tr>\n",
       "    <tr>\n",
       "      <th>2</th>\n",
       "      <td>25-34</td>\n",
       "      <td>U</td>\n",
       "      <td>25-34K</td>\n",
       "      <td>Unknown</td>\n",
       "      <td>2 Adults Kids</td>\n",
       "      <td>3</td>\n",
       "      <td>1</td>\n",
       "      <td>8</td>\n",
       "    </tr>\n",
       "    <tr>\n",
       "      <th>3</th>\n",
       "      <td>25-34</td>\n",
       "      <td>U</td>\n",
       "      <td>75-99K</td>\n",
       "      <td>Homeowner</td>\n",
       "      <td>2 Adults Kids</td>\n",
       "      <td>4</td>\n",
       "      <td>2</td>\n",
       "      <td>13</td>\n",
       "    </tr>\n",
       "    <tr>\n",
       "      <th>4</th>\n",
       "      <td>45-54</td>\n",
       "      <td>B</td>\n",
       "      <td>50-74K</td>\n",
       "      <td>Homeowner</td>\n",
       "      <td>Single Female</td>\n",
       "      <td>1</td>\n",
       "      <td>None/Unknown</td>\n",
       "      <td>16</td>\n",
       "    </tr>\n",
       "  </tbody>\n",
       "</table>\n",
       "</div>"
      ],
      "text/plain": [
       "  age_desc marital_status_code income_desc homeowner_desc      hh_comp_desc  \\\n",
       "0      65+                   A      35-49K      Homeowner  2 Adults No Kids   \n",
       "1    45-54                   A      50-74K      Homeowner  2 Adults No Kids   \n",
       "2    25-34                   U      25-34K        Unknown     2 Adults Kids   \n",
       "3    25-34                   U      75-99K      Homeowner     2 Adults Kids   \n",
       "4    45-54                   B      50-74K      Homeowner     Single Female   \n",
       "\n",
       "  household_size_desc kid_category_desc  user_id  \n",
       "0                   2      None/Unknown        1  \n",
       "1                   2      None/Unknown        7  \n",
       "2                   3                 1        8  \n",
       "3                   4                 2       13  \n",
       "4                   1      None/Unknown       16  "
      ]
     },
     "execution_count": 14,
     "metadata": {},
     "output_type": "execute_result"
    }
   ],
   "source": [
    "user_features.head()"
   ]
  },
  {
   "cell_type": "markdown",
   "metadata": {},
   "source": [
    "**Количество уникальных значений**"
   ]
  },
  {
   "cell_type": "code",
   "execution_count": 15,
   "metadata": {
    "ExecuteTime": {
     "end_time": "2021-02-23T09:49:05.940703Z",
     "start_time": "2021-02-23T09:49:05.564579Z"
    }
   },
   "outputs": [
    {
     "data": {
      "text/plain": [
       "user_id                2499\n",
       "basket_id            257001\n",
       "day                     663\n",
       "item_id               89051\n",
       "quantity              11246\n",
       "sales_value            5435\n",
       "store_id                573\n",
       "retail_disc            2364\n",
       "trans_time             1440\n",
       "week_no                  95\n",
       "coupon_disc             393\n",
       "coupon_match_disc        79\n",
       "dtype: int64"
      ]
     },
     "execution_count": 15,
     "metadata": {},
     "output_type": "execute_result"
    }
   ],
   "source": [
    "data.nunique()"
   ]
  },
  {
   "cell_type": "code",
   "execution_count": 16,
   "metadata": {
    "ExecuteTime": {
     "end_time": "2021-02-23T09:49:05.988593Z",
     "start_time": "2021-02-23T09:49:05.941700Z"
    }
   },
   "outputs": [
    {
     "data": {
      "text/plain": [
       "item_id                 92353\n",
       "manufacturer             6476\n",
       "department                 44\n",
       "brand                       2\n",
       "commodity_desc            308\n",
       "sub_commodity_desc       2383\n",
       "curr_size_of_product     4345\n",
       "dtype: int64"
      ]
     },
     "execution_count": 16,
     "metadata": {},
     "output_type": "execute_result"
    }
   ],
   "source": [
    "item_features.nunique()"
   ]
  },
  {
   "cell_type": "code",
   "execution_count": 17,
   "metadata": {
    "ExecuteTime": {
     "end_time": "2021-02-23T09:49:06.003929Z",
     "start_time": "2021-02-23T09:49:05.989569Z"
    }
   },
   "outputs": [
    {
     "data": {
      "text/plain": [
       "age_desc                 6\n",
       "marital_status_code      3\n",
       "income_desc             12\n",
       "homeowner_desc           5\n",
       "hh_comp_desc             6\n",
       "household_size_desc      5\n",
       "kid_category_desc        4\n",
       "user_id                801\n",
       "dtype: int64"
      ]
     },
     "execution_count": 17,
     "metadata": {},
     "output_type": "execute_result"
    }
   ],
   "source": [
    "user_features.nunique()"
   ]
  },
  {
   "cell_type": "markdown",
   "metadata": {},
   "source": [
    "## Обзор категориальных переменных"
   ]
  },
  {
   "cell_type": "code",
   "execution_count": 18,
   "metadata": {
    "ExecuteTime": {
     "end_time": "2021-02-23T09:49:06.018880Z",
     "start_time": "2021-02-23T09:49:06.004926Z"
    }
   },
   "outputs": [
    {
     "data": {
      "text/plain": [
       "array(['GROCERY', 'MISC. TRANS.', 'PASTRY', 'DRUG GM', 'MEAT-PCKGD',\n",
       "       'SEAFOOD-PCKGD', 'PRODUCE', 'NUTRITION', 'DELI', 'COSMETICS',\n",
       "       'MEAT', 'FLORAL', 'TRAVEL & LEISUR', 'SEAFOOD', 'MISC SALES TRAN',\n",
       "       'SALAD BAR', 'KIOSK-GAS', 'ELECT &PLUMBING', 'GRO BAKERY',\n",
       "       'GM MERCH EXP', 'FROZEN GROCERY', 'COUP/STR & MFG', 'SPIRITS',\n",
       "       'GARDEN CENTER', 'TOYS', 'CHARITABLE CONT', 'RESTAURANT', 'RX',\n",
       "       'PROD-WHS SALES', 'MEAT-WHSE', 'DAIRY DELI', 'CHEF SHOPPE', 'HBC',\n",
       "       'DELI/SNACK BAR', 'PORK', 'AUTOMOTIVE', 'VIDEO RENTAL', ' ',\n",
       "       'CNTRL/STORE SUP', 'HOUSEWARES', 'POSTAL CENTER', 'PHOTO', 'VIDEO',\n",
       "       'PHARMACY SUPPLY'], dtype=object)"
      ]
     },
     "execution_count": 18,
     "metadata": {},
     "output_type": "execute_result"
    }
   ],
   "source": [
    "item_features['department'].unique()"
   ]
  },
  {
   "cell_type": "markdown",
   "metadata": {},
   "source": [
    "**Категориальные переменные фичей пользователей**"
   ]
  },
  {
   "cell_type": "code",
   "execution_count": 19,
   "metadata": {
    "ExecuteTime": {
     "end_time": "2021-02-23T09:49:06.034929Z",
     "start_time": "2021-02-23T09:49:06.021966Z"
    }
   },
   "outputs": [
    {
     "name": "stdout",
     "output_type": "stream",
     "text": [
      "age_desc : ['65+' '45-54' '25-34' '35-44' '19-24' '55-64'] \n",
      "\n",
      "marital_status_code : ['A' 'U' 'B'] \n",
      "\n",
      "income_desc : ['35-49K' '50-74K' '25-34K' '75-99K' 'Under 15K' '100-124K' '15-24K'\n",
      " '125-149K' '150-174K' '250K+' '175-199K' '200-249K'] \n",
      "\n",
      "homeowner_desc : ['Homeowner' 'Unknown' 'Renter' 'Probable Renter' 'Probable Owner'] \n",
      "\n",
      "hh_comp_desc : ['2 Adults No Kids' '2 Adults Kids' 'Single Female' 'Unknown'\n",
      " 'Single Male' '1 Adult Kids'] \n",
      "\n",
      "household_size_desc : ['2' '3' '4' '1' '5+'] \n",
      "\n",
      "kid_category_desc : ['None/Unknown' '1' '2' '3+'] \n",
      "\n"
     ]
    }
   ],
   "source": [
    "for column in user_features.columns[:-1]:\n",
    "    print(column, ':', user_features[column].unique(), '\\n')"
   ]
  },
  {
   "cell_type": "code",
   "execution_count": 20,
   "metadata": {
    "ExecuteTime": {
     "end_time": "2021-02-23T09:49:09.701937Z",
     "start_time": "2021-02-23T09:49:06.036924Z"
    }
   },
   "outputs": [
    {
     "data": {
      "image/png": "[encoded data removed]",
      "text/plain": [
       "<Figure size 1152x1152 with 12 Axes>"
      ]
     },
     "metadata": {
      "needs_background": "light"
     },
     "output_type": "display_data"
    }
   ],
   "source": [
    "data.hist(figsize=(16,16), bins=100, grid=False);"
   ]
  },
  {
   "cell_type": "markdown",
   "metadata": {},
   "source": [
    "## Обучение модели ALS"
   ]
  },
  {
   "cell_type": "markdown",
   "metadata": {},
   "source": [
    "**Количество уникальных items и user до и после префильтрации data_train_lvl_1**"
   ]
  },
  {
   "cell_type": "code",
   "execution_count": 21,
   "metadata": {
    "ExecuteTime": {
     "end_time": "2021-02-23T09:50:13.615975Z",
     "start_time": "2021-02-23T09:50:11.081617Z"
    }
   },
   "outputs": [
    {
     "name": "stdout",
     "output_type": "stream",
     "text": [
      "Decreased # items from 83685 to 5001\n"
     ]
    }
   ],
   "source": [
    "n_items_before = data_train_lvl_1['item_id'].nunique()\n",
    "data_train_lvl_1 = prefilter_items(data_train_lvl_1, item_features=item_features, take_n_popular=5000)\n",
    "n_items_after = data_train_lvl_1['item_id'].nunique()\n",
    "print('Decreased # items from {} to {}'.format(n_items_before, n_items_after))"
   ]
  },
  {
   "cell_type": "code",
   "execution_count": 22,
   "metadata": {
    "ExecuteTime": {
     "end_time": "2021-02-23T09:50:13.631294Z",
     "start_time": "2021-02-23T09:50:13.617970Z"
    }
   },
   "outputs": [
    {
     "data": {
      "text/plain": [
       "age_desc                 6\n",
       "marital_status_code      3\n",
       "income_desc             12\n",
       "homeowner_desc           5\n",
       "hh_comp_desc             6\n",
       "household_size_desc      5\n",
       "kid_category_desc        4\n",
       "user_id                801\n",
       "dtype: int64"
      ]
     },
     "execution_count": 22,
     "metadata": {},
     "output_type": "execute_result"
    }
   ],
   "source": [
    "user_features.nunique()"
   ]
  },
  {
   "cell_type": "markdown",
   "metadata": {},
   "source": [
    "**Перекодируем признаки**"
   ]
  },
  {
   "cell_type": "code",
   "execution_count": 23,
   "metadata": {
    "ExecuteTime": {
     "end_time": "2021-02-23T09:50:13.662637Z",
     "start_time": "2021-02-23T09:50:13.633286Z"
    }
   },
   "outputs": [
    {
     "data": {
      "text/html": [
       "<div>\n",
       "<style scoped>\n",
       "    .dataframe tbody tr th:only-of-type {\n",
       "        vertical-align: middle;\n",
       "    }\n",
       "\n",
       "    .dataframe tbody tr th {\n",
       "        vertical-align: top;\n",
       "    }\n",
       "\n",
       "    .dataframe thead th {\n",
       "        text-align: right;\n",
       "    }\n",
       "</style>\n",
       "<table border=\"1\" class=\"dataframe\">\n",
       "  <thead>\n",
       "    <tr style=\"text-align: right;\">\n",
       "      <th></th>\n",
       "      <th>age_desc</th>\n",
       "      <th>marital_status_code</th>\n",
       "      <th>income_desc</th>\n",
       "      <th>homeowner_desc</th>\n",
       "      <th>hh_comp_desc</th>\n",
       "      <th>household_size_desc</th>\n",
       "      <th>kid_category_desc</th>\n",
       "      <th>user_id</th>\n",
       "    </tr>\n",
       "  </thead>\n",
       "  <tbody>\n",
       "    <tr>\n",
       "      <th>0</th>\n",
       "      <td>70</td>\n",
       "      <td>1</td>\n",
       "      <td>40</td>\n",
       "      <td>4</td>\n",
       "      <td>4</td>\n",
       "      <td>2</td>\n",
       "      <td>0</td>\n",
       "      <td>1</td>\n",
       "    </tr>\n",
       "    <tr>\n",
       "      <th>1</th>\n",
       "      <td>50</td>\n",
       "      <td>1</td>\n",
       "      <td>62</td>\n",
       "      <td>4</td>\n",
       "      <td>4</td>\n",
       "      <td>2</td>\n",
       "      <td>0</td>\n",
       "      <td>7</td>\n",
       "    </tr>\n",
       "  </tbody>\n",
       "</table>\n",
       "</div>"
      ],
      "text/plain": [
       "   age_desc  marital_status_code  income_desc  homeowner_desc  hh_comp_desc  \\\n",
       "0        70                    1           40               4             4   \n",
       "1        50                    1           62               4             4   \n",
       "\n",
       "  household_size_desc kid_category_desc  user_id  \n",
       "0                   2                 0        1  \n",
       "1                   2                 0        7  "
      ]
     },
     "execution_count": 23,
     "metadata": {},
     "output_type": "execute_result"
    }
   ],
   "source": [
    "user_features['age_desc'].replace(\n",
    "    {'19-24': 22, '25-34': 30, '35-44': 40, '45-54': 50, '55-64': 60, '65+': 70},\n",
    "    inplace=True)\n",
    "\n",
    "user_features['marital_status_code'].replace(\n",
    "    {'U': 0, 'A': 1, 'B': 2}, inplace=True)\n",
    "\n",
    "user_features['income_desc'].replace(\n",
    "    {'Under 15K': 10, '15-24K': 20, '25-34K':30, '35-49K': 40,\n",
    "     '50-74K': 62, '75-99K': 87, '100-124K': 112, '125-149K': 137, \n",
    "     '150-174K': 162, '175-199K': 187, '200-249K': 225, '250K+':275}, inplace=True)\n",
    "\n",
    "user_features['homeowner_desc'].replace(\n",
    "    {'Unknown': 0, 'Probable Renter': 1, 'Renter': 2,\n",
    "     'Probable Owner': 3, 'Homeowner': 4}, inplace=True)\n",
    "\n",
    "user_features['hh_comp_desc'].replace(\n",
    "    {'Unknown': 0, 'Single Male': 1, 'Single Female': 2,\n",
    "     '1 Adult Kids': 3, '2 Adults No Kids': 4, '2 Adults Kids':5},inplace=True)\n",
    "\n",
    "user_features['household_size_desc'].replace({'5+': 5}, inplace=True) \n",
    "\n",
    "user_features['kid_category_desc'].replace(\n",
    "    {'None/Unknown': 0, '3+': 3}, inplace=True)\n",
    "\n",
    "user_features.head(2)"
   ]
  },
  {
   "cell_type": "code",
   "execution_count": 24,
   "metadata": {
    "ExecuteTime": {
     "end_time": "2021-02-23T09:50:56.582970Z",
     "start_time": "2021-02-23T09:50:13.664624Z"
    }
   },
   "outputs": [],
   "source": [
    "# names = ['manufacturer', 'department', 'commodity_desc', 'sub_commodity_desc', 'curr_size_of_product']\n",
    "# for name in names:\n",
    "#     new_name = name + '_freq'\n",
    "#     a = item_features[name].value_counts()\n",
    "#     ind = a.index.tolist()\n",
    "#     for i in ind:\n",
    "#         item_features.loc[item_features[name] == i, new_name] = a[i]\n",
    "\n",
    "# item_features['brand'] = np.where(item_features['brand']=='Private', 0, 1)\n",
    "\n",
    "# commodities = item_features.commodity_desc.value_counts()\n",
    "# commodities_list = commodities.keys().tolist()\n",
    "# for i, name in enumerate(commodities_list):\n",
    "#     item_features.loc[item_features['commodity_desc'] == name, 'commodity_category'] = i\n",
    "\n",
    "# item_features.head(2)"
   ]
  },
  {
   "cell_type": "markdown",
   "metadata": {},
   "source": [
    "**Новые признаки пользователей и товаров на основе матрицы транзакций**"
   ]
  },
  {
   "cell_type": "code",
   "execution_count": 25,
   "metadata": {
    "ExecuteTime": {
     "end_time": "2021-02-23T15:20:57.890330Z",
     "start_time": "2021-02-23T15:20:57.869299Z"
    }
   },
   "outputs": [],
   "source": [
    "def get_user_item_features(data_train_lvl_1):\n",
    "    # час совершения транзакции\n",
    "    X = data_train_lvl_1.copy()\n",
    "    X['hour'] = X['trans_time'] // 100\n",
    "    user_item_features = X.groupby(['user_id', 'item_id'])['hour'].median().reset_index()\n",
    "    user_item_features.columns = ['user_id', 'item_id', 'median_sales_hour']\n",
    "    \n",
    "    # день недели совершения транзакции\n",
    "    X['weekday'] = X['day'] % 7\n",
    "    df = X.groupby(['user_id', 'item_id'])['weekday'].median().reset_index()\n",
    "    df.columns = ['user_id', 'item_id', 'median_weekday']\n",
    "    user_item_features = user_item_features.merge(df, on=['user_id', 'item_id'])\n",
    "    \n",
    "    # cреднее кол-во дней между покупками\n",
    "    df = X.groupby('user_id')['day'].nunique().reset_index()\n",
    "    df['mean_visits_interval'] = (X.groupby('user_id')['day'].max() - X.groupby('user_id')['day'].min()) / df['day']\n",
    "    user_item_features = user_item_features.merge(df[['user_id', 'mean_visits_interval']], on=['user_id'])\n",
    "    \n",
    "    # средний чек корзины клиента\n",
    "    df = X.groupby(['user_id', 'basket_id'])['sales_value'].sum().reset_index()\n",
    "    df = df.groupby('user_id')['sales_value'].mean().reset_index()\n",
    "    df.columns = ['user_id', 'mean_check']\n",
    "    user_item_features = user_item_features.merge(df, on=['user_id'])\n",
    "    \n",
    "    # кол-во магазинов, в которых продавался товар\n",
    "    df = X.groupby(['item_id'])['store_id'].nunique().reset_index()\n",
    "    df.columns = ['item_id', 'n_stores']\n",
    "    user_item_features = user_item_features.merge(df, on=['item_id'])\n",
    "    \n",
    "    # кол-во уникальных товаров, купленных клиентом\n",
    "    df = X.groupby(['user_id'])['item_id'].nunique().reset_index()\n",
    "    df.columns = ['user_id', 'n_items']\n",
    "    user_item_features = user_item_features.merge(df, on=['user_id'])\n",
    "    \n",
    "    # кол-во транзакций клиента\n",
    "    df = X.groupby(['user_id'])['item_id'].count().reset_index()\n",
    "    df.columns = ['user_id', 'n_transactions']\n",
    "    user_item_features = user_item_features.merge(df, on=['user_id'])\n",
    "    \n",
    "    # mean / max / std кол-ва уникальных товаров в корзине клиента\n",
    "    df = X.groupby(['user_id', 'basket_id'])['item_id'].nunique().reset_index()\n",
    "    df1 = df.groupby('user_id')['item_id'].mean().reset_index()\n",
    "    df1.columns = ['user_id', 'mean_n_items_basket']\n",
    "    user_item_features = user_item_features.merge(df1, on=['user_id'])\n",
    "\n",
    "    df2 = df.groupby('user_id')['item_id'].max().reset_index()\n",
    "    df2.columns = ['user_id', 'max_n_items_basket']\n",
    "    user_item_features = user_item_features.merge(df2, on=['user_id'])\n",
    "\n",
    "    df3 = df.groupby('user_id')['item_id'].std().reset_index()\n",
    "    df3.columns = ['user_id', 'std_n_items_basket']\n",
    "    user_item_features = user_item_features.merge(df3, on=['user_id'])\n",
    "    \n",
    "    # mean / max / std кол-ва уникальных категорий в корзине клиента\n",
    "#     X = X.merge(item_features[['item_id', 'commodity_desc']], on=['item_id'])\n",
    "#     df = X.groupby(['user_id', 'basket_id'])['commodity_desc'].nunique().reset_index()\n",
    "#     df1 = df.groupby('user_id')['commodity_desc'].mean().reset_index()\n",
    "#     df1.columns = ['user_id', 'mean_n_item_categories_basket']\n",
    "#     user_item_features = user_item_features.merge(df1, on=['user_id'])\n",
    "\n",
    "#     df2 = df.groupby('user_id')['commodity_desc'].max().reset_index()\n",
    "#     df2.columns = ['user_id', 'max_n_item_categories_basket']\n",
    "#     user_item_features = user_item_features.merge(df2, on=['user_id'])\n",
    "\n",
    "#     df3 = df.groupby('user_id')['commodity_desc'].std().reset_index()\n",
    "#     df3.columns = ['user_id', 'std_n_item_categories_basket']\n",
    "#     user_item_features = user_item_features.merge(df3, on=['user_id'])\n",
    "    \n",
    "    # эмбеддинги товаров\n",
    "    recommender = MainRecommender(X)\n",
    "    df = recommender.model.item_factors\n",
    "    n_factors = recommender.model.factors\n",
    "    ind = list(recommender.id_to_itemid.values())\n",
    "    df = pd.DataFrame(df, index=ind).reset_index()\n",
    "    df.columns = ['item_id'] + ['factor_' + str(i + 1) for i in range(n_factors)]\n",
    "    user_item_features = user_item_features.merge(df, on=['item_id'])\n",
    "    \n",
    "    # эмбеддинги пользователей\n",
    "    df = recommender.model.user_factors\n",
    "    ind = list(recommender.id_to_userid.values())\n",
    "    df = pd.DataFrame(df, index=ind).reset_index()\n",
    "    df.columns = ['user_id'] + ['user_factor_' + str(i + 1) for i in range(n_factors)]\n",
    "    user_item_features = user_item_features.merge(df, on=['user_id'])\n",
    "    \n",
    "    return user_item_features"
   ]
  },
  {
   "cell_type": "code",
   "execution_count": 26,
   "metadata": {
    "ExecuteTime": {
     "end_time": "2021-02-23T09:51:03.113815Z",
     "start_time": "2021-02-23T09:50:56.611028Z"
    }
   },
   "outputs": [
    {
     "data": {
      "application/vnd.jupyter.widget-view+json": {
       "model_id": "88e9989016984dcf980f3bdff6810ae9",
       "version_major": 2,
       "version_minor": 0
      },
      "text/plain": [
       "  0%|          | 0/15 [00:00<?, ?it/s]"
      ]
     },
     "metadata": {},
     "output_type": "display_data"
    },
    {
     "data": {
      "application/vnd.jupyter.widget-view+json": {
       "model_id": "7f2d6465f293472e8222d699b747b651",
       "version_major": 2,
       "version_minor": 0
      },
      "text/plain": [
       "  0%|          | 0/2495 [00:00<?, ?it/s]"
      ]
     },
     "metadata": {},
     "output_type": "display_data"
    },
    {
     "data": {
      "text/html": [
       "<div>\n",
       "<style scoped>\n",
       "    .dataframe tbody tr th:only-of-type {\n",
       "        vertical-align: middle;\n",
       "    }\n",
       "\n",
       "    .dataframe tbody tr th {\n",
       "        vertical-align: top;\n",
       "    }\n",
       "\n",
       "    .dataframe thead th {\n",
       "        text-align: right;\n",
       "    }\n",
       "</style>\n",
       "<table border=\"1\" class=\"dataframe\">\n",
       "  <thead>\n",
       "    <tr style=\"text-align: right;\">\n",
       "      <th></th>\n",
       "      <th>user_id</th>\n",
       "      <th>item_id</th>\n",
       "      <th>median_sales_hour</th>\n",
       "      <th>median_weekday</th>\n",
       "      <th>mean_visits_interval</th>\n",
       "      <th>mean_check</th>\n",
       "      <th>n_stores</th>\n",
       "      <th>n_items</th>\n",
       "      <th>n_transactions</th>\n",
       "      <th>mean_n_items_basket</th>\n",
       "      <th>...</th>\n",
       "      <th>user_factor_11</th>\n",
       "      <th>user_factor_12</th>\n",
       "      <th>user_factor_13</th>\n",
       "      <th>user_factor_14</th>\n",
       "      <th>user_factor_15</th>\n",
       "      <th>user_factor_16</th>\n",
       "      <th>user_factor_17</th>\n",
       "      <th>user_factor_18</th>\n",
       "      <th>user_factor_19</th>\n",
       "      <th>user_factor_20</th>\n",
       "    </tr>\n",
       "  </thead>\n",
       "  <tbody>\n",
       "    <tr>\n",
       "      <th>0</th>\n",
       "      <td>1</td>\n",
       "      <td>823721</td>\n",
       "      <td>13.0</td>\n",
       "      <td>4.0</td>\n",
       "      <td>NaN</td>\n",
       "      <td>37.4205</td>\n",
       "      <td>94</td>\n",
       "      <td>172</td>\n",
       "      <td>661</td>\n",
       "      <td>8.533333</td>\n",
       "      <td>...</td>\n",
       "      <td>-4.670919</td>\n",
       "      <td>10.429152</td>\n",
       "      <td>-14.31954</td>\n",
       "      <td>-1.452905</td>\n",
       "      <td>6.52488</td>\n",
       "      <td>-11.241791</td>\n",
       "      <td>13.060196</td>\n",
       "      <td>0.961446</td>\n",
       "      <td>-5.571281</td>\n",
       "      <td>16.617987</td>\n",
       "    </tr>\n",
       "    <tr>\n",
       "      <th>1</th>\n",
       "      <td>1</td>\n",
       "      <td>823990</td>\n",
       "      <td>15.0</td>\n",
       "      <td>6.0</td>\n",
       "      <td>NaN</td>\n",
       "      <td>37.4205</td>\n",
       "      <td>95</td>\n",
       "      <td>172</td>\n",
       "      <td>661</td>\n",
       "      <td>8.533333</td>\n",
       "      <td>...</td>\n",
       "      <td>-4.670919</td>\n",
       "      <td>10.429152</td>\n",
       "      <td>-14.31954</td>\n",
       "      <td>-1.452905</td>\n",
       "      <td>6.52488</td>\n",
       "      <td>-11.241791</td>\n",
       "      <td>13.060196</td>\n",
       "      <td>0.961446</td>\n",
       "      <td>-5.571281</td>\n",
       "      <td>16.617987</td>\n",
       "    </tr>\n",
       "  </tbody>\n",
       "</table>\n",
       "<p>2 rows × 52 columns</p>\n",
       "</div>"
      ],
      "text/plain": [
       "   user_id  item_id  median_sales_hour  median_weekday  mean_visits_interval  \\\n",
       "0        1   823721               13.0             4.0                   NaN   \n",
       "1        1   823990               15.0             6.0                   NaN   \n",
       "\n",
       "   mean_check  n_stores  n_items  n_transactions  mean_n_items_basket  ...  \\\n",
       "0     37.4205        94      172             661             8.533333  ...   \n",
       "1     37.4205        95      172             661             8.533333  ...   \n",
       "\n",
       "   user_factor_11  user_factor_12  user_factor_13  user_factor_14  \\\n",
       "0       -4.670919       10.429152       -14.31954       -1.452905   \n",
       "1       -4.670919       10.429152       -14.31954       -1.452905   \n",
       "\n",
       "   user_factor_15  user_factor_16  user_factor_17  user_factor_18  \\\n",
       "0         6.52488      -11.241791       13.060196        0.961446   \n",
       "1         6.52488      -11.241791       13.060196        0.961446   \n",
       "\n",
       "   user_factor_19  user_factor_20  \n",
       "0       -5.571281       16.617987  \n",
       "1       -5.571281       16.617987  \n",
       "\n",
       "[2 rows x 52 columns]"
      ]
     },
     "execution_count": 26,
     "metadata": {},
     "output_type": "execute_result"
    }
   ],
   "source": [
    "user_item_features = get_user_item_features(data_train_lvl_1)\n",
    "user_item_features.head(2)"
   ]
  },
  {
   "cell_type": "markdown",
   "metadata": {},
   "source": [
    "## Формирование признаков для обучения модели второго уровня"
   ]
  },
  {
   "cell_type": "code",
   "execution_count": 27,
   "metadata": {
    "ExecuteTime": {
     "end_time": "2021-02-23T16:32:13.383972Z",
     "start_time": "2021-02-23T16:32:13.375998Z"
    }
   },
   "outputs": [],
   "source": [
    "def get_candidates(data_train_lvl_1, data_train_lvl_2, N, add_to_lvl_2):\n",
    "    recommender = MainRecommender(data_train_lvl_1)\n",
    "\n",
    "    users_lvl_1 = data_train_lvl_1['user_id'].unique()\n",
    "    users_lvl_2 = data_train_lvl_2['user_id'].unique().tolist()\n",
    "    if add_to_lvl_2:\n",
    "        users_lvl_2 += add_to_lvl_2\n",
    "\n",
    "    current_users = list(set(users_lvl_2) & set(users_lvl_1))    \n",
    "    new_users = list(set(users_lvl_2) - set(users_lvl_1))\n",
    "\n",
    "    df = pd.DataFrame(users_lvl_2, columns=['user_id'])\n",
    "    cond_1 = df['user_id'].isin(current_users)\n",
    "    df.loc[cond_1, 'candidates'] = df.loc[cond_1, 'user_id'].apply(\n",
    "        lambda x: recommender.get_own_recommendations(x, N))\n",
    "\n",
    "    if new_users:\n",
    "        cond_2 = df['user_id'].isin(new_users)\n",
    "        df.loc[cond_2, 'candidates'] = df.loc[cond_2, 'user_id'].apply(\n",
    "            lambda x: recommender.overall_top_purchases[:N])\n",
    "        \n",
    "    return df\n",
    "\n",
    "\n",
    "\n",
    "def get_targets_lvl_2(data_train_lvl_1, data_train_lvl_2, user_item_features, N, add_to_lvl_2=None):\n",
    "    \n",
    "    users_lvl_2 = get_candidates(data_train_lvl_1, data_train_lvl_2, N, add_to_lvl_2)\n",
    "    \n",
    "    df = pd.DataFrame({'user_id': users_lvl_2['user_id'].values.repeat(N),\n",
    "                       'item_id': np.concatenate(users_lvl_2['candidates'].values)})\n",
    "\n",
    "    targets_lvl_2 = data_train_lvl_2[['user_id', 'item_id']].copy()\n",
    "    targets_lvl_2['target'] = 1  # тут только покупки \n",
    "\n",
    "    targets_lvl_2 = df.merge(targets_lvl_2, on=['user_id', 'item_id'], how='left')\n",
    "    targets_lvl_2['target'].fillna(0, inplace= True)\n",
    "    \n",
    "    #targets_lvl_2 = targets_lvl_2.merge(item_features, on='item_id', how='left')\n",
    "    #targets_lvl_2 = targets_lvl_2.merge(user_features, on='user_id', how='left')\n",
    "    targets_lvl_2 = targets_lvl_2.merge(\n",
    "        user_item_features, on=['user_id', 'item_id'], how='left')\n",
    "    \n",
    "    return targets_lvl_2"
   ]
  },
  {
   "cell_type": "code",
   "execution_count": null,
   "metadata": {
    "ExecuteTime": {
     "end_time": "2021-02-23T09:51:15.804166Z",
     "start_time": "2021-02-23T09:51:03.130790Z"
    },
    "scrolled": true
   },
   "outputs": [
    {
     "data": {
      "application/vnd.jupyter.widget-view+json": {
       "model_id": "d118f17c0bf84852af1b91a1e05d2d2a",
       "version_major": 2,
       "version_minor": 0
      },
      "text/plain": [
       "  0%|          | 0/15 [00:00<?, ?it/s]"
      ]
     },
     "metadata": {},
     "output_type": "display_data"
    },
    {
     "data": {
      "application/vnd.jupyter.widget-view+json": {
       "model_id": "ecdbf8023a4f4e5f8395bb247dede558",
       "version_major": 2,
       "version_minor": 0
      },
      "text/plain": [
       "  0%|          | 0/2495 [00:00<?, ?it/s]"
      ]
     },
     "metadata": {},
     "output_type": "display_data"
    }
   ],
   "source": [
    "N = 500\n",
    "targets_lvl_2 = get_targets_lvl_2(data_train_lvl_1, data_train_lvl_2, user_item_features, N, add_to_lvl_2)\n",
    "\n",
    "print(f'число пользователей: {targets_lvl_2.user_id.nunique()}')\n",
    "print(f'среднее число покупок: {round(targets_lvl_2[\"target\"].mean(), 4)}')\n",
    "\n",
    "targets_lvl_2.head(2)"
   ]
  },
  {
   "cell_type": "markdown",
   "metadata": {},
   "source": [
    "## Отбор признаков"
   ]
  },
  {
   "cell_type": "code",
   "execution_count": null,
   "metadata": {
    "ExecuteTime": {
     "end_time": "2021-02-23T17:39:14.652738Z",
     "start_time": "2021-02-23T17:39:14.644622Z"
    }
   },
   "outputs": [],
   "source": [
    "SELECTED_FEATURES_NAMES = ['brand', 'manufacturer_freq', 'department_freq', 'commodity_desc_freq',\n",
    "                           'sub_commodity_desc_freq', 'curr_size_of_product_freq',\n",
    "                           'commodity_category', 'age_desc', 'marital_status_code', 'income_desc',\n",
    "                           'homeowner_desc', 'hh_comp_desc'\n",
    "                           \n",
    "                             \n",
    "                           'manufacturer',\n",
    "                           \n",
    "                           'median_sales_hour', 'median_weekday', #'mean_visits_interval',\n",
    "                           'mean_check', \n",
    "                           'n_stores', 'n_items', 'n_transactions', \n",
    "                           'mean_n_items_basket', 'max_n_items_basket', 'std_n_items_basket',\n",
    "                           'mean_n_item_categories_basket', 'max_n_item_categories_basket', \n",
    "                           'std_n_item_categories_basket',\n",
    "                           'factor_1', 'factor_2', 'factor_3', 'factor_4', 'factor_5',\n",
    "                           'factor_6', 'factor_7', 'factor_8', 'factor_9', 'factor_10',\n",
    "                           'factor_11', 'factor_12', 'factor_13', 'factor_14', 'factor_15',\n",
    "                           'factor_16', 'factor_17', 'factor_18', 'factor_19', 'factor_20',\n",
    "                           \n",
    "                           'user_factor_1', 'user_factor_2', 'user_factor_3', 'user_factor_4',\n",
    "                           'user_factor_5', 'user_factor_6', 'user_factor_7', 'user_factor_8',\n",
    "                           'user_factor_9', 'user_factor_10', 'user_factor_11', 'user_factor_12',\n",
    "                           'user_factor_13', 'user_factor_14', 'user_factor_15', 'user_factor_16',\n",
    "                           'user_factor_17', 'user_factor_18', 'user_factor_19', 'user_factor_20',\n",
    "                          ]\n",
    "categorical = ['marital_status_code','homeowner_desc', 'hh_comp_desc', 'manufacturer','commodity_category']"
   ]
  },
  {
   "cell_type": "markdown",
   "metadata": {},
   "source": [
    "## Модели второго уровня"
   ]
  },
  {
   "cell_type": "code",
   "execution_count": null,
   "metadata": {
    "ExecuteTime": {
     "end_time": "2021-02-23T17:39:15.922534Z",
     "start_time": "2021-02-23T17:39:15.911564Z"
    }
   },
   "outputs": [],
   "source": [
    "SELECTED_FEATURES_NAMES_cb = [i for i in SELECTED_FEATURES_NAMES if not i in categorical]"
   ]
  },
  {
   "cell_type": "code",
   "execution_count": null,
   "metadata": {
    "ExecuteTime": {
     "end_time": "2021-02-23T17:39:18.525626Z",
     "start_time": "2021-02-23T17:39:18.516644Z"
    }
   },
   "outputs": [],
   "source": [
    "def run_model_cb(targets_lvl_2):    \n",
    "    X_train, X_valid, y_train, y_valid = train_test_split(targets_lvl_2[SELECTED_FEATURES_NAMES_cb].fillna(0),\n",
    "                                                          targets_lvl_2[['target']],\n",
    "                                                          test_size=0.2, random_state=16,\n",
    "                                                          stratify=targets_lvl_2[['target']])\n",
    "\n",
    "    dtrain = Pool(data=X_train, label=y_train) #, cat_features=categorical\n",
    "    dvalid = Pool(data=X_valid, label=y_valid) #, cat_features=categorical\n",
    "\n",
    "    params_cb = {\"n_estimators\":5000,\n",
    "                 #\"learning_rate\": 0.1,\n",
    "                 \"loss_function\": \"Logloss\",\n",
    "                 \"eval_metric\": \"AUC\",\n",
    "                 \"task_type\": \"CPU\",\n",
    "                 \"max_bin\": 30,\n",
    "                 \"early_stopping_rounds\": 30,\n",
    "                 \"verbose\": 1000,\n",
    "                 #\"max_depth\": 10,\n",
    "                 \"l2_leaf_reg\": 80,\n",
    "                 \"thread_count\": 6,\n",
    "                 \"random_seed\": 51} \n",
    "\n",
    "    model_cb = CatBoostClassifier(**params_cb)\n",
    "    model_cb.fit(dtrain, eval_set=[dvalid])\n",
    "\n",
    "    \n",
    "    return model_cb"
   ]
  },
  {
   "cell_type": "code",
   "execution_count": null,
   "metadata": {
    "ExecuteTime": {
     "end_time": "2021-02-23T11:20:24.424913Z",
     "start_time": "2021-02-23T11:01:48.024845Z"
    },
    "scrolled": true
   },
   "outputs": [],
   "source": [
    "model_cb = run_model_cb(targets_lvl_2)\n",
    "# bestTest = 0.9001035431\n",
    "# bestIteration = 4999"
   ]
  },
  {
   "cell_type": "code",
   "execution_count": null,
   "metadata": {
    "ExecuteTime": {
     "end_time": "2021-02-23T10:28:56.488399Z",
     "start_time": "2021-02-23T10:28:56.476461Z"
    }
   },
   "outputs": [],
   "source": [
    "print(model_cb.get_all_params())"
   ]
  },
  {
   "cell_type": "code",
   "execution_count": null,
   "metadata": {
    "ExecuteTime": {
     "end_time": "2021-02-23T10:51:25.479983Z",
     "start_time": "2021-02-23T10:51:25.464040Z"
    }
   },
   "outputs": [],
   "source": [
    "def run_model_lgb(targets_lvl_2):\n",
    "    X_train, X_valid, y_train, y_valid = train_test_split(targets_lvl_2[SELECTED_FEATURES_NAMES].fillna(0),\n",
    "                                                          targets_lvl_2[['target']],\n",
    "                                                          test_size=0.2, random_state=16,\n",
    "                                                          stratify=targets_lvl_2[['target']])\n",
    "\n",
    "    dtrain = lgb.Dataset(X_train, y_train, categorical_feature=categorical)\n",
    "    dvalid = lgb.Dataset(X_valid, y_valid, categorical_feature=categorical)\n",
    "\n",
    "    params_lgb = {\n",
    "                  #\"boosting_type\": \"gbdt\",\n",
    "                  \"objective\": \"binary\", \n",
    "                  \"metric\": \"auc\",\n",
    "                  \"num_boost_round\": 10000, #Number of boosting iterations. default=100\n",
    "                  #\"learning_rate\": 0.1,\n",
    "                  #\"class_weight\": 'balanced', #[Warning] Unknown parameter: class_weight\n",
    "                  #\"max_depth\": 10,\n",
    "                  #\"n_estimators\": 5000,\n",
    "                  \"n_jobs\": 8,\n",
    "                  \"force_row_wise\": True, # to remove the overhead\n",
    "                  \"seed\": 24} \n",
    "\n",
    "    model_lgb = lgb.train(params=params_lgb,\n",
    "                          train_set=dtrain,  \n",
    "                          valid_sets=[dtrain, dvalid],\n",
    "                          categorical_feature=categorical,\n",
    "                          verbose_eval=1000,\n",
    "                          early_stopping_rounds=30)\n",
    "    \n",
    "    return model_lgb"
   ]
  },
  {
   "cell_type": "code",
   "execution_count": null,
   "metadata": {
    "ExecuteTime": {
     "end_time": "2021-02-23T11:00:42.673718Z",
     "start_time": "2021-02-23T10:57:33.811489Z"
    }
   },
   "outputs": [],
   "source": [
    "model_lgb = run_model_lgb(targets_lvl_2)\n",
    "[1322]\ttraining's auc: 0.954272\tvalid_1's auc: 0.912695"
   ]
  },
  {
   "cell_type": "markdown",
   "metadata": {},
   "source": [
    "## Генерация прогнозов"
   ]
  },
  {
   "cell_type": "code",
   "execution_count": null,
   "metadata": {
    "ExecuteTime": {
     "end_time": "2021-02-23T11:25:35.824049Z",
     "start_time": "2021-02-23T11:25:10.784655Z"
    }
   },
   "outputs": [],
   "source": [
    "predictions_lgb_train = model_lgb.predict(targets_lvl_2[SELECTED_FEATURES_NAMES].fillna(0))\n",
    "predictions_cb_train = model_cb.predict_proba(targets_lvl_2[SELECTED_FEATURES_NAMES_cb].fillna(0))[:, 1]"
   ]
  },
  {
   "cell_type": "markdown",
   "metadata": {},
   "source": [
    "**Объединение прогнозов**"
   ]
  },
  {
   "cell_type": "code",
   "execution_count": null,
   "metadata": {
    "ExecuteTime": {
     "end_time": "2021-02-23T11:35:06.991227Z",
     "start_time": "2021-02-23T11:35:06.020777Z"
    }
   },
   "outputs": [],
   "source": [
    "preds_train = pd.DataFrame(zip(predictions_lgb_train, \n",
    "                               predictions_cb_train),\n",
    "                           columns=['lgb', 'cb']).mean(axis=1).values\n",
    "roc_auc_score(targets_lvl_2['target'], preds_train)\n",
    "# 0.9384561600781899"
   ]
  },
  {
   "cell_type": "markdown",
   "metadata": {},
   "source": [
    "## Обработка прогнозов"
   ]
  },
  {
   "cell_type": "code",
   "execution_count": null,
   "metadata": {
    "ExecuteTime": {
     "end_time": "2021-02-23T19:03:41.481262Z",
     "start_time": "2021-02-23T19:03:41.469207Z"
    }
   },
   "outputs": [],
   "source": [
    "def get_predictions(targets_lvl_2, raw_predictions, prefix='lgb'): \n",
    "    df = targets_lvl_2[['user_id', 'item_id']]\n",
    "    df['predictions'] = raw_predictions\n",
    "\n",
    "    df = df.groupby(['user_id', 'item_id'])['predictions'].median().reset_index()\n",
    "    df = df.sort_values(['predictions'], ascending=False).groupby(['user_id']).head(5)\n",
    "\n",
    "    df = df.groupby('user_id')['item_id'].unique().reset_index()\n",
    "    df.columns = ['user_id', prefix + '_recommendations']\n",
    "    \n",
    "    return df\n",
    "\n",
    "\n",
    "def get_results(data_val_lvl_2, targets_lvl_2, preds_lgb, preds_cb, combined_preds):\n",
    "    result = data_val_lvl_2.groupby('user_id')['item_id'].unique().reset_index()\n",
    "    result.columns=['user_id', 'actual']\n",
    "    \n",
    "    prefixes = ['lgb', 'cb', 'cb_lgb']\n",
    "    predictions = [preds_lgb, preds_cb, combined_preds]\n",
    "    \n",
    "    for i, preds in enumerate(predictions):\n",
    "        df = get_predictions(targets_lvl_2, preds, prefixes[i])\n",
    "        result = result.merge(df, on='user_id', how='left')\n",
    "\n",
    "    return result"
   ]
  },
  {
   "cell_type": "code",
   "execution_count": null,
   "metadata": {
    "ExecuteTime": {
     "end_time": "2021-02-23T11:36:14.270025Z",
     "start_time": "2021-02-23T11:36:12.011491Z"
    }
   },
   "outputs": [],
   "source": [
    "result_lvl_2 = get_results(data_val_lvl_2, targets_lvl_2, \n",
    "                           predictions_lgb_train,\n",
    "                           predictions_cb_train, \n",
    "                           preds_train)\n",
    "result_lvl_2.head(2)"
   ]
  },
  {
   "cell_type": "markdown",
   "metadata": {},
   "source": [
    "## Метрики качества"
   ]
  },
  {
   "cell_type": "markdown",
   "metadata": {},
   "source": [
    "**LightGBM**"
   ]
  },
  {
   "cell_type": "code",
   "execution_count": null,
   "metadata": {
    "ExecuteTime": {
     "end_time": "2021-02-23T11:37:09.017569Z",
     "start_time": "2021-02-23T11:37:08.925369Z"
    }
   },
   "outputs": [],
   "source": [
    "result_lvl_2.apply(lambda row: precision_at_k(row['lgb_recommendations'], row['actual'], 5), axis=1).mean()\n",
    "# 0.29441723800195807"
   ]
  },
  {
   "cell_type": "markdown",
   "metadata": {},
   "source": [
    "**CatBoost**"
   ]
  },
  {
   "cell_type": "code",
   "execution_count": null,
   "metadata": {
    "ExecuteTime": {
     "end_time": "2021-02-23T11:37:36.519551Z",
     "start_time": "2021-02-23T11:37:36.411449Z"
    }
   },
   "outputs": [],
   "source": [
    "result_lvl_2.apply(lambda row: precision_at_k(row['cb_recommendations'], row['actual'], 5), axis=1).mean()\n",
    "# 0.2863858961802145"
   ]
  },
  {
   "cell_type": "markdown",
   "metadata": {},
   "source": [
    "**Ensemble**"
   ]
  },
  {
   "cell_type": "code",
   "execution_count": null,
   "metadata": {
    "ExecuteTime": {
     "end_time": "2021-02-23T11:38:08.716340Z",
     "start_time": "2021-02-23T11:38:08.624484Z"
    }
   },
   "outputs": [],
   "source": [
    "result_lvl_2.apply(lambda row: precision_at_k(row['cb_lgb_recommendations'], row['actual'], 5), axis=1).mean()\n",
    "# 0.30499510284035214"
   ]
  },
  {
   "cell_type": "markdown",
   "metadata": {},
   "source": [
    "## Построение финальных прогнозов\n",
    "\n",
    "на всей обучающей выборке"
   ]
  },
  {
   "cell_type": "code",
   "execution_count": null,
   "metadata": {
    "ExecuteTime": {
     "end_time": "2021-02-23T11:39:41.197017Z",
     "start_time": "2021-02-23T11:39:40.894913Z"
    }
   },
   "outputs": [],
   "source": [
    "validation_weeks = 6\n",
    "data_train = data[data['week_no'] < data['week_no'].max() - validation_weeks]\n",
    "data_valid = data[data['week_no'] >= data['week_no'].max() - validation_weeks]"
   ]
  },
  {
   "cell_type": "code",
   "execution_count": null,
   "metadata": {
    "ExecuteTime": {
     "end_time": "2021-02-23T11:44:24.433442Z",
     "start_time": "2021-02-23T11:44:24.406442Z"
    }
   },
   "outputs": [],
   "source": [
    "test = pd.read_csv('../../data/rec_sys/predictions_basic.csv')"
   ]
  },
  {
   "cell_type": "code",
   "execution_count": null,
   "metadata": {
    "ExecuteTime": {
     "end_time": "2021-02-23T11:44:28.126173Z",
     "start_time": "2021-02-23T11:44:28.094709Z"
    }
   },
   "outputs": [],
   "source": [
    "users_lvl_1 = data_train.user_id.unique()\n",
    "users_lvl_2 = data_valid.user_id.unique()\n",
    "users_lvl_3 = test.user_id.unique()\n",
    "\n",
    "new_users_lvl_2 = list(set(users_lvl_2) - set(users_lvl_1))\n",
    "new_users_lvl_3 = list(set(users_lvl_3) - (set(users_lvl_1) | set(users_lvl_2)))\n",
    "\n",
    "add_to_lvl_2 = list(set(users_lvl_3) - (set(users_lvl_2)))\n",
    "\n",
    "new_users_lvl_2, new_users_lvl_3, len(add_to_lvl_2)"
   ]
  },
  {
   "cell_type": "code",
   "execution_count": null,
   "metadata": {
    "ExecuteTime": {
     "end_time": "2021-02-23T14:40:43.932803Z",
     "start_time": "2021-02-23T14:40:43.925845Z"
    }
   },
   "outputs": [],
   "source": [
    "from src.metrics import precision_at_k, recall_at_k\n",
    "from src.utils import prefilter_items\n",
    "from src.recommenders import MainRecommender"
   ]
  },
  {
   "cell_type": "code",
   "execution_count": null,
   "metadata": {
    "ExecuteTime": {
     "end_time": "2021-02-23T15:18:32.850947Z",
     "start_time": "2021-02-23T15:18:32.838984Z"
    }
   },
   "outputs": [],
   "source": [
    "import os\n",
    "os.chdir('C:/Users/Alex/YandexDisk/it/gb/rec_sys/src')\n",
    "%run utils.py"
   ]
  },
  {
   "cell_type": "code",
   "execution_count": null,
   "metadata": {
    "ExecuteTime": {
     "end_time": "2021-02-23T14:45:37.755069Z",
     "start_time": "2021-02-23T14:45:35.489923Z"
    }
   },
   "outputs": [],
   "source": [
    "n_items_before = data['item_id'].nunique()\n",
    "data_train = prefilter_items(data_train, item_features=item_features, take_n_popular=5000)\n",
    "n_items_after = data_train['item_id'].nunique()\n",
    "print('Decreased # items from {} to {}'.format(n_items_before, n_items_after))"
   ]
  },
  {
   "cell_type": "code",
   "execution_count": null,
   "metadata": {
    "ExecuteTime": {
     "end_time": "2021-02-23T15:21:06.981490Z",
     "start_time": "2021-02-23T15:21:00.851125Z"
    }
   },
   "outputs": [],
   "source": [
    "user_item_features = get_user_item_features(data_train)\n",
    "user_item_features.head(2)"
   ]
  },
  {
   "cell_type": "code",
   "execution_count": null,
   "metadata": {
    "ExecuteTime": {
     "end_time": "2021-02-23T16:30:43.175987Z",
     "start_time": "2021-02-23T16:30:43.167575Z"
    }
   },
   "outputs": [],
   "source": [
    "import os\n",
    "os.chdir('C:/Users/Alex/YandexDisk/it/gb/rec_sys/src')\n",
    "%run recommenders.py"
   ]
  },
  {
   "cell_type": "code",
   "execution_count": null,
   "metadata": {
    "ExecuteTime": {
     "end_time": "2021-02-23T16:32:29.589171Z",
     "start_time": "2021-02-23T16:32:17.600445Z"
    }
   },
   "outputs": [],
   "source": [
    "targets_test = get_targets_lvl_2(data_train, data_valid, user_item_features, N, add_to_lvl_2)\n",
    "\n",
    "print(f'число пользователей: {targets_test.user_id.nunique()}')\n",
    "print(f'среднее число покупок: {round(targets_test[\"target\"].mean(), 4)}')\n",
    "\n",
    "targets_test.head(2)"
   ]
  },
  {
   "cell_type": "code",
   "execution_count": null,
   "metadata": {
    "ExecuteTime": {
     "end_time": "2021-02-23T18:15:17.475895Z",
     "start_time": "2021-02-23T18:15:17.466920Z"
    }
   },
   "outputs": [],
   "source": [
    "SELECTED_FEATURES_NAMES = ['median_sales_hour', 'median_weekday', #'mean_visits_interval',\n",
    "                           'mean_check', \n",
    "                           'n_stores', 'n_items', 'n_transactions', \n",
    "                           'mean_n_items_basket', 'max_n_items_basket', \n",
    "                           \n",
    "                          \n",
    "                           'factor_1', 'factor_2', 'factor_3', 'factor_4', 'factor_5',\n",
    "                           'factor_6', 'factor_7', 'factor_8', 'factor_9', 'factor_10',\n",
    "                           'factor_11', 'factor_12', 'factor_13', 'factor_14', 'factor_15',\n",
    "                           'factor_16', 'factor_17', 'factor_18', 'factor_19', 'factor_20',\n",
    "                           \n",
    "                           'user_factor_1', 'user_factor_2', 'user_factor_3', 'user_factor_4',\n",
    "                           'user_factor_5', 'user_factor_6', 'user_factor_7', 'user_factor_8',\n",
    "                           'user_factor_9', 'user_factor_10', 'user_factor_11', 'user_factor_12',\n",
    "                           'user_factor_13', 'user_factor_14', 'user_factor_15', 'user_factor_16',\n",
    "                           'user_factor_17', 'user_factor_18', 'user_factor_19', 'user_factor_20',\n",
    "                          ]\n",
    "categorical = []"
   ]
  },
  {
   "cell_type": "markdown",
   "metadata": {},
   "source": [
    "**Генерация прогнозов**"
   ]
  },
  {
   "cell_type": "code",
   "execution_count": null,
   "metadata": {
    "ExecuteTime": {
     "end_time": "2021-02-23T18:17:28.405605Z",
     "start_time": "2021-02-23T18:15:19.360880Z"
    },
    "scrolled": false
   },
   "outputs": [],
   "source": [
    "model_lgb = run_model_lgb(targets_test)\n",
    "# Early stopping, best iteration is:\n",
    "# [1558]\ttraining's auc: 0.900737\tvalid_1's auc: 0.87275"
   ]
  },
  {
   "cell_type": "code",
   "execution_count": null,
   "metadata": {
    "ExecuteTime": {
     "end_time": "2021-02-23T18:23:59.155572Z",
     "start_time": "2021-02-23T18:23:59.142616Z"
    }
   },
   "outputs": [],
   "source": [
    "SELECTED_FEATURES_NAMES_cb = [i for i in SELECTED_FEATURES_NAMES if not i in categorical]"
   ]
  },
  {
   "cell_type": "code",
   "execution_count": null,
   "metadata": {
    "ExecuteTime": {
     "end_time": "2021-02-23T18:38:00.426385Z",
     "start_time": "2021-02-23T18:24:01.082116Z"
    }
   },
   "outputs": [],
   "source": [
    "model_cb = run_model_cb(targets_test)\n",
    "# Stopped by overfitting detector  (30 iterations wait)\n",
    "# bestTest = 0.8620786343\n",
    "# bestIteration = 3899"
   ]
  },
  {
   "cell_type": "code",
   "execution_count": null,
   "metadata": {
    "ExecuteTime": {
     "end_time": "2021-02-23T18:47:21.789015Z",
     "start_time": "2021-02-23T18:47:02.786037Z"
    }
   },
   "outputs": [],
   "source": [
    "predictions_lgb_test = model_lgb.predict(targets_test[SELECTED_FEATURES_NAMES].fillna(0))\n",
    "predictions_cb_test = model_cb.predict_proba(targets_test[SELECTED_FEATURES_NAMES_cb].fillna(0))[:, 1]"
   ]
  },
  {
   "cell_type": "markdown",
   "metadata": {},
   "source": [
    "**Объединение прогнозов**"
   ]
  },
  {
   "cell_type": "code",
   "execution_count": null,
   "metadata": {
    "ExecuteTime": {
     "end_time": "2021-02-23T18:50:39.318191Z",
     "start_time": "2021-02-23T18:50:38.159467Z"
    }
   },
   "outputs": [],
   "source": [
    "preds_test = pd.DataFrame(zip(predictions_lgb_test, predictions_cb_test),columns=['lgb', 'cb']).mean(axis=1).values\n",
    "roc_auc_score(targets_test['target'], preds_test)\n",
    "# 0.8887098749469134"
   ]
  },
  {
   "cell_type": "code",
   "execution_count": null,
   "metadata": {
    "ExecuteTime": {
     "end_time": "2021-02-23T18:52:35.702482Z",
     "start_time": "2021-02-23T18:52:35.681495Z"
    }
   },
   "outputs": [],
   "source": [
    "test.head(2)"
   ]
  },
  {
   "cell_type": "code",
   "execution_count": null,
   "metadata": {
    "ExecuteTime": {
     "end_time": "2021-02-23T18:52:55.205977Z",
     "start_time": "2021-02-23T18:52:55.181956Z"
    }
   },
   "outputs": [],
   "source": [
    "targets_test.head(2)"
   ]
  },
  {
   "cell_type": "code",
   "execution_count": null,
   "metadata": {
    "ExecuteTime": {
     "end_time": "2021-02-23T19:06:37.106415Z",
     "start_time": "2021-02-23T19:06:37.094421Z"
    }
   },
   "outputs": [],
   "source": [
    "def get_results_1(data_val_lvl_2, targets_lvl_2, preds_lgb, preds_cb, combined_preds):\n",
    "    result = data_val_lvl_2.groupby('user_id')['actual'].unique().reset_index()\n",
    "    result.columns=['user_id', 'actual']\n",
    "    \n",
    "    prefixes = ['lgb', 'cb', 'cb_lgb']\n",
    "    predictions = [preds_lgb, preds_cb, combined_preds]\n",
    "    \n",
    "    for i, preds in enumerate(predictions):\n",
    "        df = get_predictions(targets_lvl_2, preds, prefixes[i])\n",
    "        result = result.merge(df, on='user_id', how='left')\n",
    "\n",
    "    return result"
   ]
  },
  {
   "cell_type": "code",
   "execution_count": null,
   "metadata": {
    "ExecuteTime": {
     "end_time": "2021-02-23T19:06:40.295399Z",
     "start_time": "2021-02-23T19:06:38.221085Z"
    },
    "scrolled": true
   },
   "outputs": [],
   "source": [
    "result_test = get_results_1(test, targets_test, \n",
    "                           predictions_lgb_test,\n",
    "                           predictions_cb_test, \n",
    "                           preds_test)\n",
    "result_test.head(2)"
   ]
  },
  {
   "cell_type": "markdown",
   "metadata": {},
   "source": [
    "**Сохранение результатов**"
   ]
  },
  {
   "cell_type": "code",
   "execution_count": null,
   "metadata": {
    "ExecuteTime": {
     "end_time": "2021-02-23T19:11:06.621034Z",
     "start_time": "2021-02-23T19:11:06.500169Z"
    }
   },
   "outputs": [],
   "source": [
    "df = result_test[['user_id', 'cb_lgb_recommendations']].copy()\n",
    "df.to_csv('../predictions.csv', index=False)\n",
    "df.head(2)"
   ]
  }
 ],
 "metadata": {
  "kernelspec": {
   "display_name": "Python 3 (ipykernel)",
   "language": "python",
   "name": "python3"
  },
  "language_info": {
   "codemirror_mode": {
    "name": "ipython",
    "version": 3
   },
   "file_extension": ".py",
   "mimetype": "text/x-python",
   "name": "python",
   "nbconvert_exporter": "python",
   "pygments_lexer": "ipython3",
   "version": "3.9.6"
  },
  "toc": {
   "base_numbering": 1,
   "nav_menu": {},
   "number_sections": false,
   "sideBar": true,
   "skip_h1_title": false,
   "title_cell": "Table of Contents",
   "title_sidebar": "Contents",
   "toc_cell": false,
   "toc_position": {},
   "toc_section_display": true,
   "toc_window_display": false
  },
  "varInspector": {
   "cols": {
    "lenName": 16,
    "lenType": 16,
    "lenVar": 40
   },
   "kernels_config": {
    "python": {
     "delete_cmd_postfix": "",
     "delete_cmd_prefix": "del ",
     "library": "var_list.py",
     "varRefreshCmd": "print(var_dic_list())"
    },
    "r": {
     "delete_cmd_postfix": ") ",
     "delete_cmd_prefix": "rm(",
     "library": "var_list.r",
     "varRefreshCmd": "cat(var_dic_list()) "
    }
   },
   "position": {
    "height": "857px",
    "left": "338px",
    "right": "20px",
    "top": "78px",
    "width": "703px"
   },
   "types_to_exclude": [
    "module",
    "function",
    "builtin_function_or_method",
    "instance",
    "_Feature"
   ],
   "window_display": false
  }
 },
 "nbformat": 4,
 "nbformat_minor": 4
}
