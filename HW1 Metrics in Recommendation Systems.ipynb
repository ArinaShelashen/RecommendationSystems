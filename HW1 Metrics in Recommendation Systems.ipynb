{
 "cells": [
  {
   "cell_type": "markdown",
   "id": "425a10d7-caa9-4f84-abff-f528aeb4ab80",
   "metadata": {
    "id": "425a10d7-caa9-4f84-abff-f528aeb4ab80"
   },
   "source": [
    "# Домашнее задание №1\n",
    "\n",
    "На семинаре мы проходили метрики, необходимо реализовать некоторые из них"
   ]
  },
  {
   "cell_type": "code",
   "execution_count": 114,
   "id": "6f4acf2d-e8a0-469a-8463-6dc26521c554",
   "metadata": {
    "id": "6f4acf2d-e8a0-469a-8463-6dc26521c554"
   },
   "outputs": [],
   "source": [
    "import numpy as np\n",
    "import pandas as pd"
   ]
  },
  {
   "cell_type": "markdown",
   "id": "38a80a25-4ea6-49c9-a0f4-c7fc2a80dcc1",
   "metadata": {
    "id": "38a80a25-4ea6-49c9-a0f4-c7fc2a80dcc1"
   },
   "source": [
    "## Задание 1. Реализовать метрики Recall@k и  Money Recall@k\n",
    "\n",
    "*Recall* - доля рекомендованных товаров среди релевантных = Какой % купленных товаров был среди рекомендованных\n",
    "\n",
    "$$\\Large Recall@K(i) = \\frac {\\sum_{j=1}^{K}\\mathbb{1}_{r_{ij}}}{|Rel_i|}$$\n",
    "\n",
    "$\\Large |Rel_i|$ -- количество релевантных товаров для пользователя $i$\n",
    "\n",
    "$$\\Large MoneyRecall@K(i) = \\frac {\\sum_{j=1}^{K}\\mathbb{1}_{r_{ij}}\\cdot Price(j)}{\\sum_{s\\in Rel_i}Price(s)}$$\n"
   ]
  },
  {
   "cell_type": "code",
   "execution_count": 115,
   "id": "34a7db81-664c-4c9b-92c0-d565fa5487fc",
   "metadata": {
    "id": "34a7db81-664c-4c9b-92c0-d565fa5487fc"
   },
   "outputs": [],
   "source": [
    "def recall_at_k(recommended_list, bought_list, k=5):\n",
    "    \n",
    "    bought_list = np.array(bought_list)\n",
    "    recommended_list = np.array(recommended_list)\n",
    "    \n",
    "    #TODO: Ваш код здесь\n",
    "    recommended_list = recommended_list[:k] #cut recommended list to k\n",
    "    flags = np.isin(bought_list, recommended_list) #which of the purchases were in the Rec.List\n",
    "    recall = flags.sum() / len(bought_list)#num of purchases from Rec.List divide by all purchases => recall\n",
    "    \n",
    "    return recall #Добавьте сюда результат расчета метрики\n",
    "\n",
    "\n",
    "def money_recall_at_k(recommended_list, bought_list, prices_recommended, prices_bought, k=5):\n",
    "    bought_list = np.array(bought_list)\n",
    "    recommended_list = np.array(recommended_list)\n",
    "    prices_recommended = np.array(prices_recommended)\n",
    "    prices_bought = np.array(prices_bought)\n",
    "    \n",
    "    recommended_list = recommended_list[:k] #cut Rec.List and Rec.Prices to k\n",
    "    prices_recommended = prices_recommended[:k]\n",
    "    \n",
    "    flags = np.isin(bought_list, recommended_list) #which of the purchases were in Rec.List\n",
    "    recall = (flags * prices_bought).sum() / prices_bought.sum() #cost of purchases from Rec.List divide by total money spent\n",
    "    #TODO: Ваш код здесь\n",
    "    \n",
    "    return recall #Добавьте сюда результат расчета метрики"
   ]
  },
  {
   "cell_type": "markdown",
   "id": "b42d4d0d-6073-47b6-ad54-586a477405e5",
   "metadata": {
    "id": "b42d4d0d-6073-47b6-ad54-586a477405e5"
   },
   "source": [
    "## Задание 2. Реализовать метрику MRR@k\n",
    "\n",
    "Mean Reciprocal Rank\n",
    "\n",
    "- Считаем для первых k рекоммендаций\n",
    "- Найти ранк первого релевантного предсказания $\\Large rank_j$\n",
    "- Посчитать reciprocal rank = $\\Large\\frac{1}{rank_j}$\n",
    "\n",
    "$$\\Large  MMR(i)@k=\\frac {1}{\\min\\limits_{j\\in Rel(i)} rank_j}$$"
   ]
  },
  {
   "cell_type": "code",
   "execution_count": 116,
   "id": "9c8940da-3621-4a54-8236-810a42ed4b77",
   "metadata": {
    "id": "9c8940da-3621-4a54-8236-810a42ed4b77"
   },
   "outputs": [],
   "source": [
    "def mrr_at_k(recommended_list, bought_list, k=5):\n",
    "    bought_list = np.array(bought_list)\n",
    "    recommended_list = np.array(recommended_list)\n",
    "    \n",
    "    #TODO: Ваш код здесь\n",
    "    #which of the purchases were in Rec.List\n",
    "    flags = list(np.isin(recommended_list[:k], bought_list))\n",
    "    \n",
    "    #rank of the 1st relevant recommendation if exists\n",
    "    rank = (flags.index(True)+1) if True in flags else 0\n",
    "    \n",
    "    #mrr if rank exists\n",
    "    mrr = 1/rank if rank else 0\n",
    "    \n",
    "    \n",
    "    return mrr#Добавьте сюда результат расчета метрики"
   ]
  },
  {
   "cell_type": "code",
   "execution_count": 117,
   "id": "59e965fb",
   "metadata": {},
   "outputs": [
    {
     "data": {
      "text/plain": [
       "0.3333333333333333"
      ]
     },
     "execution_count": 117,
     "metadata": {},
     "output_type": "execute_result"
    }
   ],
   "source": [
    "a = [0,0,1,4,5]\n",
    "b = [1,2,3]\n",
    "mrr_at_k(a,b)"
   ]
  },
  {
   "cell_type": "code",
   "execution_count": 118,
   "id": "ee92a45b",
   "metadata": {},
   "outputs": [],
   "source": [
    "data = pd.DataFrame({\"user_id\": [\"u1\",\"u2\",\"u3\"], \n",
    "              \"recommended_list\": [\n",
    "                                      [143, 156, 1134, 991, 27],\n",
    "                                      [1543, 3345, 533, 11, 43],\n",
    "                                      [156, 3345, 10, 15, 1134]\n",
    "                                  ],\n",
    "             \"bought_list\": [\n",
    "                             [156,27],\n",
    "                             [11,43],\n",
    "                             [1]\n",
    "                            ]})"
   ]
  },
  {
   "cell_type": "code",
   "execution_count": 119,
   "id": "beb962c0",
   "metadata": {},
   "outputs": [
    {
     "data": {
      "text/plain": [
       "0.25"
      ]
     },
     "execution_count": 119,
     "metadata": {},
     "output_type": "execute_result"
    }
   ],
   "source": [
    "data.apply(lambda x: mrr_at_k(x[1],x[2],5),1).mean()"
   ]
  },
  {
   "cell_type": "markdown",
   "id": "1c3008cc-fd9e-44c6-8913-43d71ffb9cd7",
   "metadata": {
    "id": "1c3008cc-fd9e-44c6-8913-43d71ffb9cd7"
   },
   "source": [
    "## Задание 3*. Реализовать метрику nDCG@k\n",
    "Normalized discounted cumulative gain. Эту метрику реализовать будет немного сложнее.\n",
    "\n",
    "$$\\Large DCG@K(i) = \\sum_{j=1}^{K}\\frac{\\mathbb{1}_{r_{ij}}}{\\log_2 (j+1)}$$\n",
    "\n",
    "\n",
    "$\\Large \\mathbb{1}_{r_{ij}}$ -- индикаторная функция показывает что пользователь $i$ провзаимодействовал с продуктом $j$\n",
    "\n",
    "Для подсчета $nDCG$ нам необходимо найти максимально возможный $DCG$ для пользователя $i$  и рекомендаций длины $K$.\n",
    "Максимальный $DCG$ достигается когда мы порекомендовали максимально возможное количество релевантных продуктов и все они в начале списка рекомендаций.\n",
    "\n",
    "$$\\Large IDCG@K(i) = max(DCG@K(i)) = \\sum_{j=1}^{K}\\frac{\\mathbb{1}_{j\\le|Rel_i|}}{\\log_2 (j+1)}$$\n",
    "\n",
    "$$\\Large nDCG@K(i) = \\frac {DCG@K(i)}{IDCG@K(i)}$$\n",
    "\n",
    "$\\Large |Rel_i|$ -- количество релевантных продуктов для пользователя $i$\n",
    "\n"
   ]
  },
  {
   "cell_type": "code",
   "execution_count": 120,
   "id": "67d7e53c-dfd8-4423-a107-f85880a45c7e",
   "metadata": {
    "id": "67d7e53c-dfd8-4423-a107-f85880a45c7e"
   },
   "outputs": [],
   "source": [
    "def ndcg_at_k(recommended_list, bought_list, k=5):\n",
    "    bought_list = np.array(bought_list)\n",
    "    recommended_list = np.array(recommended_list)\n",
    "    \n",
    "    #which of the purchases were in Rec.List\n",
    "    flags = np.isin(recommended_list[:k], bought_list)\n",
    "    \n",
    "    dcg_at_k = sum([flags[i]/np.log2(i+2) for i in range(k)])\n",
    "    idcg_at_k = sum([1/np.log2(i+2) for i in range(k)])\n",
    "    ndcg_at_k = dcg_at_k / idcg_at_k\n",
    "    #TODO: Ваш код здесь\n",
    "    \n",
    "    return ndcg_at_k #Добавьте сюда результат расчета метрики\n",
    "    "
   ]
  },
  {
   "cell_type": "code",
   "execution_count": 121,
   "id": "3a01536d",
   "metadata": {},
   "outputs": [
    {
     "data": {
      "text/plain": [
       "0.7227265726449519"
      ]
     },
     "execution_count": 121,
     "metadata": {},
     "output_type": "execute_result"
    }
   ],
   "source": [
    "a = [1,2,3,4,5]\n",
    "b = [1,2,3]\n",
    "ndcg_at_k(a,b)"
   ]
  },
  {
   "cell_type": "code",
   "execution_count": 122,
   "id": "fa5fdd6e",
   "metadata": {},
   "outputs": [
    {
     "data": {
      "text/plain": [
       "0.20748825653397254"
      ]
     },
     "execution_count": 122,
     "metadata": {},
     "output_type": "execute_result"
    }
   ],
   "source": [
    "data.apply(lambda x: ndcg_at_k(x[1],x[2],5),1).mean()"
   ]
  }
 ],
 "metadata": {
  "colab": {
   "provenance": []
  },
  "kernelspec": {
   "display_name": "Python 3 (ipykernel)",
   "language": "python",
   "name": "python3"
  },
  "language_info": {
   "codemirror_mode": {
    "name": "ipython",
    "version": 3
   },
   "file_extension": ".py",
   "mimetype": "text/x-python",
   "name": "python",
   "nbconvert_exporter": "python",
   "pygments_lexer": "ipython3",
   "version": "3.9.6"
  }
 },
 "nbformat": 4,
 "nbformat_minor": 5
}
